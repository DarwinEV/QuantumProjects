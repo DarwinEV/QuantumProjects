{
 "cells": [
  {
   "cell_type": "code",
   "execution_count": 11,
   "metadata": {
    "colab": {
     "base_uri": "https://localhost:8080/"
    },
    "id": "JJKmThyTyV7K",
    "outputId": "e18f0734-6435-41ce-d904-2f9991eeea4a"
   },
   "outputs": [
    {
     "name": "stdout",
     "output_type": "stream",
     "text": [
      "Requirement already satisfied: transformers in c:\\users\\mehur\\anaconda3\\lib\\site-packages (4.32.1)\n",
      "Requirement already satisfied: torch in c:\\users\\mehur\\anaconda3\\lib\\site-packages (2.4.1)\n",
      "Requirement already satisfied: pandas in c:\\users\\mehur\\anaconda3\\lib\\site-packages (2.0.3)\n",
      "Requirement already satisfied: scikit-learn in c:\\users\\mehur\\anaconda3\\lib\\site-packages (1.3.0)\n",
      "Collecting ta\n",
      "  Downloading ta-0.11.0.tar.gz (25 kB)\n",
      "  Preparing metadata (setup.py): started\n",
      "  Preparing metadata (setup.py): finished with status 'done'\n",
      "Requirement already satisfied: filelock in c:\\users\\mehur\\anaconda3\\lib\\site-packages (from transformers) (3.15.0)\n",
      "Requirement already satisfied: huggingface-hub<1.0,>=0.15.1 in c:\\users\\mehur\\anaconda3\\lib\\site-packages (from transformers) (0.24.7)\n",
      "Requirement already satisfied: numpy>=1.17 in c:\\users\\mehur\\anaconda3\\lib\\site-packages (from transformers) (1.24.3)\n",
      "Requirement already satisfied: packaging>=20.0 in c:\\users\\mehur\\anaconda3\\lib\\site-packages (from transformers) (23.1)\n",
      "Requirement already satisfied: pyyaml>=5.1 in c:\\users\\mehur\\anaconda3\\lib\\site-packages (from transformers) (6.0)\n",
      "Requirement already satisfied: regex!=2019.12.17 in c:\\users\\mehur\\anaconda3\\lib\\site-packages (from transformers) (2022.7.9)\n",
      "Requirement already satisfied: requests in c:\\users\\mehur\\anaconda3\\lib\\site-packages (from transformers) (2.32.2)\n",
      "Requirement already satisfied: tokenizers!=0.11.3,<0.14,>=0.11.1 in c:\\users\\mehur\\anaconda3\\lib\\site-packages (from transformers) (0.13.2)\n",
      "Requirement already satisfied: safetensors>=0.3.1 in c:\\users\\mehur\\anaconda3\\lib\\site-packages (from transformers) (0.4.5)\n",
      "Requirement already satisfied: tqdm>=4.27 in c:\\users\\mehur\\anaconda3\\lib\\site-packages (from transformers) (4.66.4)\n",
      "Requirement already satisfied: typing-extensions>=4.8.0 in c:\\users\\mehur\\anaconda3\\lib\\site-packages (from torch) (4.11.0)\n",
      "Requirement already satisfied: sympy in c:\\users\\mehur\\anaconda3\\lib\\site-packages (from torch) (1.11.1)\n",
      "Requirement already satisfied: networkx in c:\\users\\mehur\\anaconda3\\lib\\site-packages (from torch) (3.2.1)\n",
      "Requirement already satisfied: jinja2 in c:\\users\\mehur\\anaconda3\\lib\\site-packages (from torch) (3.1.2)\n",
      "Requirement already satisfied: fsspec in c:\\users\\mehur\\anaconda3\\lib\\site-packages (from torch) (2024.6.0)\n",
      "Requirement already satisfied: python-dateutil>=2.8.2 in c:\\users\\mehur\\anaconda3\\lib\\site-packages (from pandas) (2.8.2)\n",
      "Requirement already satisfied: pytz>=2020.1 in c:\\users\\mehur\\anaconda3\\lib\\site-packages (from pandas) (2023.3.post1)\n",
      "Requirement already satisfied: tzdata>=2022.1 in c:\\users\\mehur\\anaconda3\\lib\\site-packages (from pandas) (2023.3)\n",
      "Requirement already satisfied: scipy>=1.5.0 in c:\\users\\mehur\\anaconda3\\lib\\site-packages (from scikit-learn) (1.11.1)\n",
      "Requirement already satisfied: joblib>=1.1.1 in c:\\users\\mehur\\anaconda3\\lib\\site-packages (from scikit-learn) (1.2.0)\n",
      "Requirement already satisfied: threadpoolctl>=2.0.0 in c:\\users\\mehur\\anaconda3\\lib\\site-packages (from scikit-learn) (2.2.0)\n",
      "Requirement already satisfied: six>=1.5 in c:\\users\\mehur\\anaconda3\\lib\\site-packages (from python-dateutil>=2.8.2->pandas) (1.16.0)\n",
      "Requirement already satisfied: colorama in c:\\users\\mehur\\anaconda3\\lib\\site-packages (from tqdm>=4.27->transformers) (0.4.6)\n",
      "Requirement already satisfied: MarkupSafe>=2.0 in c:\\users\\mehur\\anaconda3\\lib\\site-packages (from jinja2->torch) (2.1.1)\n",
      "Requirement already satisfied: charset-normalizer<4,>=2 in c:\\users\\mehur\\anaconda3\\lib\\site-packages (from requests->transformers) (2.0.4)\n",
      "Requirement already satisfied: idna<4,>=2.5 in c:\\users\\mehur\\anaconda3\\lib\\site-packages (from requests->transformers) (3.4)\n",
      "Requirement already satisfied: urllib3<3,>=1.21.1 in c:\\users\\mehur\\anaconda3\\lib\\site-packages (from requests->transformers) (2.2.1)\n",
      "Requirement already satisfied: certifi>=2017.4.17 in c:\\users\\mehur\\anaconda3\\lib\\site-packages (from requests->transformers) (2023.11.17)\n",
      "Requirement already satisfied: mpmath>=0.19 in c:\\users\\mehur\\anaconda3\\lib\\site-packages (from sympy->torch) (1.3.0)\n",
      "Building wheels for collected packages: ta\n",
      "  Building wheel for ta (setup.py): started\n",
      "  Building wheel for ta (setup.py): finished with status 'done'\n",
      "  Created wheel for ta: filename=ta-0.11.0-py3-none-any.whl size=29422 sha256=734eae9b1cea5285c322ce3cc748cd83751e60723cd8c5b2bd3c4a14daf320c1\n",
      "  Stored in directory: c:\\users\\mehur\\appdata\\local\\pip\\cache\\wheels\\a1\\d7\\29\\7781cc5eb9a3659d032d7d15bdd0f49d07d2b24fec29f44bc4\n",
      "Successfully built ta\n",
      "Installing collected packages: ta\n",
      "Successfully installed ta-0.11.0\n"
     ]
    }
   ],
   "source": [
    "!pip install transformers torch pandas scikit-learn ta"
   ]
  },
  {
   "cell_type": "code",
   "execution_count": 12,
   "metadata": {
    "id": "ZNotuKgDzmN-"
   },
   "outputs": [],
   "source": [
    "import torch\n",
    "import torch.nn as nn\n",
    "from transformers import BertTokenizer, BertModel, AdamW\n",
    "from torch.utils.data import DataLoader, TensorDataset\n",
    "import pandas as pd\n",
    "import numpy as np\n",
    "from sklearn.model_selection import train_test_split\n",
    "from sklearn.preprocessing import StandardScaler\n",
    "import yfinance as yf\n",
    "import sys\n",
    "import ta\n"
   ]
  },
  {
   "cell_type": "code",
   "execution_count": 13,
   "metadata": {
    "id": "rkLlsc5az3Bi"
   },
   "outputs": [],
   "source": [
    "# Updated Configuration Parameters\n",
    "config = {\n",
    "    'stock': '^GSPC',\n",
    "    'start_date': '1980-01-01',\n",
    "    'end_date': '2024-08-10',\n",
    "    'forecast_horizon': 16,\n",
    "    'seq_length': 64,\n",
    "    'batch_size': 16,  # Updated to the best-performing batch size\n",
    "    'model_dim': 1024,  # Updated to the best-performing model dimension\n",
    "    'num_heads': 4,  # Updated to the best-performing number of heads\n",
    "    'num_layers': 1,  # Updated to the best-performing number of layers\n",
    "    'dropout': 0.302336647888835,  # Updated to the best-performing dropout rate\n",
    "    'learning_rate': 0.00019167217058609182,  # Updated to the best-performing learning rate\n",
    "    'num_epochs': 64,  # Keeping this consistent unless specific insights suggest otherwise\n",
    "    'early_stopping_patience': 20,  # Keeping this consistent unless specific insights suggest otherwise\n",
    "    'window_size': 10,  # Keeping this consistent unless specific insights suggest otherwise\n",
    "    'subset_start_date': '2024-06-01',  # Keeping this consistent unless specific insights suggest otherwise\n",
    "    'subset_end_date': '2024-08-10',  # Keeping this consistent unless specific insights suggest otherwise\n",
    "    'device': torch.device('cuda' if torch.cuda.is_available() else 'cpu'),\n",
    "    'max_len': 64,  # Should match seq_length\n",
    "    'scaling_method': 'standard',  # Keeping this consistent unless specific insights suggest otherwise\n",
    "    'weight_decay': 6.185062729292181e-06,  # Updated to the best-performing weight decay\n",
    "    'optimizer': 'Adam',  # Updated to the best-performing optimizer\n",
    "    'scheduler': 'CosineAnnealingLR',  # Updated to the best-performing scheduler\n",
    "    'T_max': 31,  # Updated to the best-performing T_max for CosineAnnealingLR\n",
    "    'eta_min': 5.116919592728347e-06,  # Updated to the best-performing eta_min for CosineAnnealingLR\n",
    "}\n"
   ]
  },
  {
   "cell_type": "code",
   "execution_count": 44,
   "metadata": {
    "colab": {
     "base_uri": "https://localhost:8080/"
    },
    "id": "ZwA_hX8bznfc",
    "outputId": "4c78bf53-ebfd-41db-ba71-1818471b7213"
   },
   "outputs": [
    {
     "name": "stderr",
     "output_type": "stream",
     "text": [
      "[*********************100%%**********************]  1 of 1 completed\n"
     ]
    },
    {
     "name": "stdout",
     "output_type": "stream",
     "text": [
      "Text 1: date: 1980-03-12, price_change: -0.84, sma_20: 112.54, sma_50: 112.38, ema_20: 111.20, rsi: 32.63, macd: -1.69, macd_signal: -0.78, bb_high: 119.44, bb_low: 105.64, obv: 219160000.00, stoch: 16.90, atr: 2.77, williams_r: -83.10, cci: -140.94, roc: -5.70, adx: 26.59, adi: -38718016.04\n",
      "Text 2: date: 1980-03-13, price_change: -1.17, sma_20: 111.90, sma_50: 112.38, ema_20: 110.66, rsi: 29.92, macd: -1.91, macd_signal: -1.01, bb_high: 118.87, bb_low: 104.93, obv: 186090000.00, stoch: 6.86, atr: 2.75, williams_r: -93.14, cci: -137.11, roc: -7.33, adx: 27.30, adi: -57750049.38\n",
      "Text 3: date: 1980-03-14, price_change: -0.18, sma_20: 111.33, sma_50: 112.38, ema_20: 110.17, rsi: 29.51, macd: -2.07, macd_signal: -1.22, bb_high: 118.48, bb_low: 104.19, obv: 150910000.00, stoch: 12.78, atr: 2.73, williams_r: -87.22, cci: -130.56, roc: -6.18, adx: 28.34, adi: -52643257.73\n",
      "Text 4: date: 1980-03-17, price_change: -3.01, sma_20: 110.68, sma_50: 112.30, ema_20: 109.41, rsi: 23.77, macd: -2.43, macd_signal: -1.46, bb_high: 118.58, bb_low: 102.77, obv: 113890000.00, stoch: 3.31, atr: 2.79, williams_r: -96.69, cci: -148.30, roc: -8.98, adx: 29.93, adi: -80109666.59\n",
      "Text 5: date: 1980-03-18, price_change: 1.80, sma_20: 110.15, sma_50: 112.24, ema_20: 108.91, rsi: 32.04, macd: -2.54, macd_signal: -1.68, bb_high: 118.33, bb_low: 101.97, obv: 161230000.00, stoch: 22.42, atr: 2.85, williams_r: -77.58, cci: -124.61, roc: -8.41, adx: 31.58, adi: -48947499.29\n"
     ]
    },
    {
     "name": "stderr",
     "output_type": "stream",
     "text": [
      "C:\\Users\\mehur\\anaconda3\\Lib\\site-packages\\huggingface_hub\\file_download.py:1150: FutureWarning: `resume_download` is deprecated and will be removed in version 1.0.0. Downloads always resume when possible. If you want to force a new download, use `force_download=True`.\n",
      "  warnings.warn(\n"
     ]
    }
   ],
   "source": [
    "def download_and_preprocess_data(stock, start, end):\n",
    "    \"\"\"\n",
    "    Downloads stock data and extracts various technical indicators.\n",
    "\n",
    "    Args:\n",
    "        stock (str): Stock ticker symbol.\n",
    "        start (str): Start date in 'YYYY-MM-DD'.\n",
    "        end (str): End date in 'YYYY-MM-DD'.\n",
    "\n",
    "    Returns:\n",
    "        pd.DataFrame: Dataframe containing technical indicators.\n",
    "    \"\"\"\n",
    "    try:\n",
    "        yfd = yf.download(stock, start=start, end=end)\n",
    "    except Exception as e:\n",
    "        print(f\"Error downloading data: {e}\")\n",
    "        sys.exit(1)\n",
    "\n",
    "    # Drop rows with missing values\n",
    "    yfd.dropna(inplace=True)\n",
    "    \n",
    "    # Calculate percentage change in closing prices\n",
    "    yfd['Pct_Change'] = yfd['Close'].pct_change() * 100\n",
    "    \n",
    "    # Moving Averages\n",
    "    yfd['SMA_20'] = yfd['Close'].rolling(window=20).mean()\n",
    "    yfd['SMA_50'] = yfd['Close'].rolling(window=50).mean()\n",
    "    yfd['EMA_20'] = yfd['Close'].ewm(span=20, adjust=False).mean()\n",
    "    \n",
    "    # RSI\n",
    "    yfd['RSI'] = ta.momentum.RSIIndicator(yfd['Close'], window=14).rsi()\n",
    "    \n",
    "    # MACD\n",
    "    macd = ta.trend.MACD(yfd['Close'])\n",
    "    yfd['MACD'] = macd.macd()\n",
    "    yfd['MACD_Signal'] = macd.macd_signal()\n",
    "    \n",
    "    # Bollinger Bands\n",
    "    bollinger = ta.volatility.BollingerBands(yfd['Close'], window=20)\n",
    "    yfd['BB_High'] = bollinger.bollinger_hband()\n",
    "    yfd['BB_Low'] = bollinger.bollinger_lband()\n",
    "    \n",
    "    # Volume-based indicators\n",
    "    yfd['OBV'] = ta.volume.OnBalanceVolumeIndicator(yfd['Close'], yfd['Volume']).on_balance_volume()\n",
    "\n",
    "    # Additional Indicators\n",
    "    # Stochastic Oscillator\n",
    "    yfd['Stoch'] = ta.momentum.StochasticOscillator(yfd['High'], yfd['Low'], yfd['Close']).stoch()\n",
    "    \n",
    "    # Average True Range (ATR)\n",
    "    yfd['ATR'] = ta.volatility.AverageTrueRange(yfd['High'], yfd['Low'], yfd['Close']).average_true_range()\n",
    "    \n",
    "    # Williams %R\n",
    "    yfd['Williams_%R'] = ta.momentum.WilliamsRIndicator(yfd['High'], yfd['Low'], yfd['Close']).williams_r()\n",
    "    \n",
    "    # Commodity Channel Index (CCI)\n",
    "    yfd['CCI'] = ta.trend.CCIIndicator(yfd['High'], yfd['Low'], yfd['Close'], window=20).cci()\n",
    "    \n",
    "    # Rate of Change (ROC)\n",
    "    yfd['ROC'] = ta.momentum.ROCIndicator(yfd['Close']).roc()\n",
    "    \n",
    "    # Average Directional Index (ADX)\n",
    "    yfd['ADX'] = ta.trend.ADXIndicator(yfd['High'], yfd['Low'], yfd['Close']).adx()\n",
    "    \n",
    "    # Accumulation/Distribution Index (ADI)\n",
    "    yfd['ADI'] = ta.volume.AccDistIndexIndicator(yfd['High'], yfd['Low'], yfd['Close'], yfd['Volume']).acc_dist_index()\n",
    "    \n",
    "    # Drop any rows with NaN values after adding indicators\n",
    "    yfd.dropna(inplace=True)\n",
    "    \n",
    "    return yfd\n",
    "\n",
    "df = download_and_preprocess_data(config['stock'], config['start_date'], config['end_date'])\n",
    "df.head()\n",
    "\n",
    "# Standardize the features\n",
    "features = df[['Pct_Change', 'SMA_20', 'SMA_50', 'EMA_20', 'RSI', 'MACD', 'MACD_Signal', \n",
    "               'BB_High', 'BB_Low', 'OBV', 'Stoch', 'ATR', 'Williams_%R', 'CCI', \n",
    "               'ROC', 'ADX', 'ADI']].values\n",
    "\"\"\"\n",
    "scaler = StandardScaler()\n",
    "features = scaler.fit_transform(features)\n",
    "\"\"\"\n",
    "\n",
    "def convert_to_text(df):\n",
    "    text_data = []\n",
    "    \n",
    "    for _, row in df.iterrows():\n",
    "        text = (\n",
    "            f\"date: {row.name.date()}, \"\n",
    "            f\"price_change: {row['Pct_Change']:.2f}, \"\n",
    "            f\"sma_20: {row['SMA_20']:.2f}, \"\n",
    "            f\"sma_50: {row['SMA_50']:.2f}, \"\n",
    "            f\"ema_20: {row['EMA_20']:.2f}, \"\n",
    "            f\"rsi: {row['RSI']:.2f}, \"\n",
    "            f\"macd: {row['MACD']:.2f}, \"\n",
    "            f\"macd_signal: {row['MACD_Signal']:.2f}, \"\n",
    "            f\"bb_high: {row['BB_High']:.2f}, \"\n",
    "            f\"bb_low: {row['BB_Low']:.2f}, \"\n",
    "            f\"obv: {row['OBV']:.2f}, \"\n",
    "            f\"stoch: {row['Stoch']:.2f}, \"\n",
    "            f\"atr: {row['ATR']:.2f}, \"\n",
    "            f\"williams_r: {row['Williams_%R']:.2f}, \"\n",
    "            f\"cci: {row['CCI']:.2f}, \"\n",
    "            f\"roc: {row['ROC']:.2f}, \"\n",
    "            f\"adx: {row['ADX']:.2f}, \"\n",
    "            f\"adi: {row['ADI']:.2f}\"\n",
    "        )\n",
    "        text_data.append(text)\n",
    "    \n",
    "    return text_data\n",
    "\n",
    "# Convert the dataframe to text format\n",
    "text_data = convert_to_text(df)\n",
    "\n",
    "# Display the first few converted text data points\n",
    "for i, text in enumerate(text_data[:5]):\n",
    "    print(f\"Text {i+1}: {text}\")\n",
    "    \n",
    "\n",
    "from transformers import BertTokenizer\n",
    "\n",
    "# Load the BERT tokenizer\n",
    "tokenizer = BertTokenizer.from_pretrained('bert-base-uncased')\n",
    "\n",
    "# Tokenize the text data\n",
    "encoded_data = tokenizer(text_data, padding=True, truncation=True, return_tensors=\"pt\")\n",
    "\n",
    "# Prepare tensors for labels\n",
    "labels = torch.tensor(df['Pct_Change'].values, dtype=torch.float32)\n",
    "\n",
    "# Assuming you already have `text_data` and `labels` as tensors\n",
    "\n",
    "# Split the data into training and validation sets\n",
    "X_train, X_val, y_train, y_val = train_test_split(encoded_data['input_ids'], labels, test_size=0.2, random_state=42)\n",
    "\n",
    "# Create datasets and dataloaders\n",
    "train_dataset = TensorDataset(X_train, y_train)\n",
    "val_dataset = TensorDataset(X_val, y_val)\n",
    "\n",
    "train_loader = DataLoader(train_dataset, batch_size=config['batch_size'], shuffle=True)\n",
    "val_loader = DataLoader(val_dataset, batch_size=config['batch_size'], shuffle=False)\n",
    "\n"
   ]
  },
  {
   "cell_type": "code",
   "execution_count": 45,
   "metadata": {
    "id": "bcaB1GdNz7Rw"
   },
   "outputs": [
    {
     "data": {
      "text/plain": [
       "FinancialBERT(\n",
       "  (bert): BertModel(\n",
       "    (embeddings): BertEmbeddings(\n",
       "      (word_embeddings): Embedding(30522, 768, padding_idx=0)\n",
       "      (position_embeddings): Embedding(512, 768)\n",
       "      (token_type_embeddings): Embedding(2, 768)\n",
       "      (LayerNorm): LayerNorm((768,), eps=1e-12, elementwise_affine=True)\n",
       "      (dropout): Dropout(p=0.1, inplace=False)\n",
       "    )\n",
       "    (encoder): BertEncoder(\n",
       "      (layer): ModuleList(\n",
       "        (0-11): 12 x BertLayer(\n",
       "          (attention): BertAttention(\n",
       "            (self): BertSelfAttention(\n",
       "              (query): Linear(in_features=768, out_features=768, bias=True)\n",
       "              (key): Linear(in_features=768, out_features=768, bias=True)\n",
       "              (value): Linear(in_features=768, out_features=768, bias=True)\n",
       "              (dropout): Dropout(p=0.1, inplace=False)\n",
       "            )\n",
       "            (output): BertSelfOutput(\n",
       "              (dense): Linear(in_features=768, out_features=768, bias=True)\n",
       "              (LayerNorm): LayerNorm((768,), eps=1e-12, elementwise_affine=True)\n",
       "              (dropout): Dropout(p=0.1, inplace=False)\n",
       "            )\n",
       "          )\n",
       "          (intermediate): BertIntermediate(\n",
       "            (dense): Linear(in_features=768, out_features=3072, bias=True)\n",
       "            (intermediate_act_fn): GELUActivation()\n",
       "          )\n",
       "          (output): BertOutput(\n",
       "            (dense): Linear(in_features=3072, out_features=768, bias=True)\n",
       "            (LayerNorm): LayerNorm((768,), eps=1e-12, elementwise_affine=True)\n",
       "            (dropout): Dropout(p=0.1, inplace=False)\n",
       "          )\n",
       "        )\n",
       "      )\n",
       "    )\n",
       "    (pooler): BertPooler(\n",
       "      (dense): Linear(in_features=768, out_features=768, bias=True)\n",
       "      (activation): Tanh()\n",
       "    )\n",
       "  )\n",
       "  (regressor): Linear(in_features=768, out_features=1, bias=True)\n",
       ")"
      ]
     },
     "execution_count": 45,
     "metadata": {},
     "output_type": "execute_result"
    }
   ],
   "source": [
    "# Define model\n",
    "class FinancialBERT(nn.Module):\n",
    "    def __init__(self, pretrained_model_name='bert-base-uncased'):\n",
    "        super(FinancialBERT, self).__init__()\n",
    "        self.bert = BertModel.from_pretrained(pretrained_model_name)\n",
    "        self.regressor = nn.Linear(self.bert.config.hidden_size, 1)\n",
    "\n",
    "    def forward(self, input_ids):\n",
    "        outputs = self.bert(input_ids=input_ids)\n",
    "        cls_token_output = outputs.last_hidden_state[:, 0, :]\n",
    "        prediction = self.regressor(cls_token_output)\n",
    "        return prediction\n",
    "\n",
    "# Initialize model, optimizer, and loss function\n",
    "model = FinancialBERT()\n",
    "model.to(config['device'])"
   ]
  },
  {
   "cell_type": "code",
   "execution_count": 46,
   "metadata": {
    "id": "IIkvg7e-0r7k"
   },
   "outputs": [
    {
     "name": "stderr",
     "output_type": "stream",
     "text": [
      "C:\\Users\\mehur\\anaconda3\\Lib\\site-packages\\transformers\\optimization.py:411: FutureWarning: This implementation of AdamW is deprecated and will be removed in a future version. Use the PyTorch implementation torch.optim.AdamW instead, or set `no_deprecation_warning=True` to disable this warning\n",
      "  warnings.warn(\n"
     ]
    }
   ],
   "source": [
    "optimizer = AdamW(model.parameters(), lr=config['learning_rate'])\n",
    "loss_fn = nn.MSELoss()"
   ]
  },
  {
   "cell_type": "code",
   "execution_count": 47,
   "metadata": {
    "colab": {
     "base_uri": "https://localhost:8080/"
    },
    "id": "UDfPZOq40OmC",
    "outputId": "b807fa78-9f07-4188-fec6-3ac4182e71c8"
   },
   "outputs": [
    {
     "name": "stderr",
     "output_type": "stream",
     "text": [
      "We strongly recommend passing in an `attention_mask` since your input_ids may be padded. See https://huggingface.co/docs/transformers/troubleshooting#incorrect-output-when-padding-tokens-arent-masked.\n"
     ]
    },
    {
     "name": "stdout",
     "output_type": "stream",
     "text": [
      "Epoch 1, Loss: 4.228709697723389\n",
      "Epoch 2, Loss: 0.8957012891769409\n",
      "Epoch 3, Loss: 2.156647205352783\n",
      "Epoch 4, Loss: 0.1444012075662613\n",
      "Epoch 5, Loss: 1.7842411994934082\n",
      "Epoch 6, Loss: 0.9196561574935913\n",
      "Epoch 7, Loss: 0.8277803063392639\n",
      "Epoch 8, Loss: 0.6515084505081177\n",
      "Epoch 9, Loss: 1.2830681800842285\n",
      "Epoch 10, Loss: 0.6896889805793762\n",
      "Epoch 11, Loss: 2.9064176082611084\n",
      "Epoch 12, Loss: 2.6646440029144287\n",
      "Epoch 13, Loss: 1.009215235710144\n",
      "Epoch 14, Loss: 0.6967839002609253\n",
      "Epoch 15, Loss: 0.8704098463058472\n",
      "Epoch 16, Loss: 1.7616057395935059\n",
      "Epoch 17, Loss: 0.7601248621940613\n",
      "Epoch 18, Loss: 0.5265000462532043\n",
      "Epoch 19, Loss: 1.2333875894546509\n",
      "Epoch 20, Loss: 0.4164745509624481\n"
     ]
    },
    {
     "ename": "KeyboardInterrupt",
     "evalue": "",
     "output_type": "error",
     "traceback": [
      "\u001b[1;31m---------------------------------------------------------------------------\u001b[0m",
      "\u001b[1;31mKeyboardInterrupt\u001b[0m                         Traceback (most recent call last)",
      "Cell \u001b[1;32mIn[47], line 12\u001b[0m\n\u001b[0;32m     10\u001b[0m     outputs \u001b[38;5;241m=\u001b[39m model(inputs)\n\u001b[0;32m     11\u001b[0m     loss \u001b[38;5;241m=\u001b[39m loss_fn(outputs\u001b[38;5;241m.\u001b[39msqueeze(\u001b[38;5;241m-\u001b[39m\u001b[38;5;241m1\u001b[39m), labels)\n\u001b[1;32m---> 12\u001b[0m     loss\u001b[38;5;241m.\u001b[39mbackward()\n\u001b[0;32m     13\u001b[0m     optimizer\u001b[38;5;241m.\u001b[39mstep()\n\u001b[0;32m     15\u001b[0m \u001b[38;5;28mprint\u001b[39m(\u001b[38;5;124mf\u001b[39m\u001b[38;5;124m'\u001b[39m\u001b[38;5;124mEpoch \u001b[39m\u001b[38;5;132;01m{\u001b[39;00mepoch\u001b[38;5;250m \u001b[39m\u001b[38;5;241m+\u001b[39m\u001b[38;5;250m \u001b[39m\u001b[38;5;241m1\u001b[39m\u001b[38;5;132;01m}\u001b[39;00m\u001b[38;5;124m, Loss: \u001b[39m\u001b[38;5;132;01m{\u001b[39;00mloss\u001b[38;5;241m.\u001b[39mitem()\u001b[38;5;132;01m}\u001b[39;00m\u001b[38;5;124m'\u001b[39m)\n",
      "File \u001b[1;32m~\\anaconda3\\Lib\\site-packages\\torch\\_tensor.py:521\u001b[0m, in \u001b[0;36mTensor.backward\u001b[1;34m(self, gradient, retain_graph, create_graph, inputs)\u001b[0m\n\u001b[0;32m    511\u001b[0m \u001b[38;5;28;01mif\u001b[39;00m has_torch_function_unary(\u001b[38;5;28mself\u001b[39m):\n\u001b[0;32m    512\u001b[0m     \u001b[38;5;28;01mreturn\u001b[39;00m handle_torch_function(\n\u001b[0;32m    513\u001b[0m         Tensor\u001b[38;5;241m.\u001b[39mbackward,\n\u001b[0;32m    514\u001b[0m         (\u001b[38;5;28mself\u001b[39m,),\n\u001b[1;32m   (...)\u001b[0m\n\u001b[0;32m    519\u001b[0m         inputs\u001b[38;5;241m=\u001b[39minputs,\n\u001b[0;32m    520\u001b[0m     )\n\u001b[1;32m--> 521\u001b[0m torch\u001b[38;5;241m.\u001b[39mautograd\u001b[38;5;241m.\u001b[39mbackward(\n\u001b[0;32m    522\u001b[0m     \u001b[38;5;28mself\u001b[39m, gradient, retain_graph, create_graph, inputs\u001b[38;5;241m=\u001b[39minputs\n\u001b[0;32m    523\u001b[0m )\n",
      "File \u001b[1;32m~\\anaconda3\\Lib\\site-packages\\torch\\autograd\\__init__.py:289\u001b[0m, in \u001b[0;36mbackward\u001b[1;34m(tensors, grad_tensors, retain_graph, create_graph, grad_variables, inputs)\u001b[0m\n\u001b[0;32m    284\u001b[0m     retain_graph \u001b[38;5;241m=\u001b[39m create_graph\n\u001b[0;32m    286\u001b[0m \u001b[38;5;66;03m# The reason we repeat the same comment below is that\u001b[39;00m\n\u001b[0;32m    287\u001b[0m \u001b[38;5;66;03m# some Python versions print out the first line of a multi-line function\u001b[39;00m\n\u001b[0;32m    288\u001b[0m \u001b[38;5;66;03m# calls in the traceback and some print out the last line\u001b[39;00m\n\u001b[1;32m--> 289\u001b[0m _engine_run_backward(\n\u001b[0;32m    290\u001b[0m     tensors,\n\u001b[0;32m    291\u001b[0m     grad_tensors_,\n\u001b[0;32m    292\u001b[0m     retain_graph,\n\u001b[0;32m    293\u001b[0m     create_graph,\n\u001b[0;32m    294\u001b[0m     inputs,\n\u001b[0;32m    295\u001b[0m     allow_unreachable\u001b[38;5;241m=\u001b[39m\u001b[38;5;28;01mTrue\u001b[39;00m,\n\u001b[0;32m    296\u001b[0m     accumulate_grad\u001b[38;5;241m=\u001b[39m\u001b[38;5;28;01mTrue\u001b[39;00m,\n\u001b[0;32m    297\u001b[0m )\n",
      "File \u001b[1;32m~\\anaconda3\\Lib\\site-packages\\torch\\autograd\\graph.py:769\u001b[0m, in \u001b[0;36m_engine_run_backward\u001b[1;34m(t_outputs, *args, **kwargs)\u001b[0m\n\u001b[0;32m    767\u001b[0m     unregister_hooks \u001b[38;5;241m=\u001b[39m _register_logging_hooks_on_whole_graph(t_outputs)\n\u001b[0;32m    768\u001b[0m \u001b[38;5;28;01mtry\u001b[39;00m:\n\u001b[1;32m--> 769\u001b[0m     \u001b[38;5;28;01mreturn\u001b[39;00m Variable\u001b[38;5;241m.\u001b[39m_execution_engine\u001b[38;5;241m.\u001b[39mrun_backward(  \u001b[38;5;66;03m# Calls into the C++ engine to run the backward pass\u001b[39;00m\n\u001b[0;32m    770\u001b[0m         t_outputs, \u001b[38;5;241m*\u001b[39margs, \u001b[38;5;241m*\u001b[39m\u001b[38;5;241m*\u001b[39mkwargs\n\u001b[0;32m    771\u001b[0m     )  \u001b[38;5;66;03m# Calls into the C++ engine to run the backward pass\u001b[39;00m\n\u001b[0;32m    772\u001b[0m \u001b[38;5;28;01mfinally\u001b[39;00m:\n\u001b[0;32m    773\u001b[0m     \u001b[38;5;28;01mif\u001b[39;00m attach_logging_hooks:\n",
      "\u001b[1;31mKeyboardInterrupt\u001b[0m: "
     ]
    }
   ],
   "source": [
    "# Training loop\n",
    "num_epochs = config['num_epochs']\n",
    "for epoch in range(num_epochs):\n",
    "    model.train()\n",
    "    for batch in train_loader:\n",
    "        inputs, labels = batch\n",
    "        inputs, labels = inputs.to(config['device']), labels.to(config['device'])\n",
    "\n",
    "        optimizer.zero_grad()\n",
    "        outputs = model(inputs)\n",
    "        loss = loss_fn(outputs.squeeze(-1), labels)\n",
    "        loss.backward()\n",
    "        optimizer.step()\n",
    "\n",
    "    print(f'Epoch {epoch + 1}, Loss: {loss.item()}')\n",
    "\n",
    "    # (Optional) Add validation here if needed"
   ]
  },
  {
   "cell_type": "code",
   "execution_count": 48,
   "metadata": {
    "id": "9TzyjWr30V6T"
   },
   "outputs": [
    {
     "name": "stdout",
     "output_type": "stream",
     "text": [
      "Mean Squared Error on the validation set: 1.2157789468765259\n"
     ]
    },
    {
     "data": {
      "image/png": "[encoded data removed]",
      "text/plain": [
       "<Figure size 1000x600 with 1 Axes>"
      ]
     },
     "metadata": {},
     "output_type": "display_data"
    }
   ],
   "source": [
    "import matplotlib.pyplot as plt\n",
    "from sklearn.metrics import mean_squared_error\n",
    "\n",
    "# Switch the model to evaluation mode\n",
    "model.eval()\n",
    "\n",
    "# Lists to store actual and predicted values\n",
    "actuals = []\n",
    "predictions = []\n",
    "\n",
    "# Evaluate the model on the validation set\n",
    "with torch.no_grad():\n",
    "    for batch in val_loader:\n",
    "        inputs, labels = batch\n",
    "        outputs = model(inputs)\n",
    "        \n",
    "        # Store the actual and predicted values\n",
    "        actuals.extend(labels.numpy())\n",
    "        predictions.extend(outputs.squeeze(-1).numpy())\n",
    "\n",
    "# Calculate the MSE\n",
    "mse = mean_squared_error(actuals, predictions)\n",
    "print(f'Mean Squared Error on the validation set: {mse}')\n",
    "\n",
    "# Plot the actual vs predicted values\n",
    "plt.figure(figsize=(10, 6))\n",
    "plt.plot(actuals, label='Actual')\n",
    "plt.plot(predictions, label='Predicted')\n",
    "plt.title('Actual vs Predicted Percentage Change')\n",
    "plt.xlabel('Sample Index')\n",
    "plt.ylabel('Percentage Change')\n",
    "plt.legend()\n",
    "plt.show()\n"
   ]
  },
  {
   "cell_type": "code",
   "execution_count": null,
   "metadata": {},
   "outputs": [],
   "source": []
  }
 ],
 "metadata": {
  "colab": {
   "provenance": []
  },
  "kernelspec": {
   "display_name": "Python 3 (ipykernel)",
   "language": "python",
   "name": "python3"
  },
  "language_info": {
   "codemirror_mode": {
    "name": "ipython",
    "version": 3
   },
   "file_extension": ".py",
   "mimetype": "text/x-python",
   "name": "python",
   "nbconvert_exporter": "python",
   "pygments_lexer": "ipython3",
   "version": "3.10.14"
  }
 },
 "nbformat": 4,
 "nbformat_minor": 4
}
