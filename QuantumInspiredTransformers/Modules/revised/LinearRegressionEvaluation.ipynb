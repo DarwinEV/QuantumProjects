{
  "nbformat": 4,
  "nbformat_minor": 0,
  "metadata": {
    "colab": {
      "provenance": []
    },
    "kernelspec": {
      "name": "python3",
      "display_name": "Python 3"
    },
    "language_info": {
      "name": "python"
    }
  },
  "cells": [
    {
      "cell_type": "code",
      "source": [
        "import joblib\n",
        "import requests\n",
        "from io import BytesIO\n",
        "import pandas as pd\n",
        "from sklearn.metrics import mean_squared_error, r2_score"
      ],
      "metadata": {
        "id": "I29uLw60ZBNl"
      },
      "execution_count": 18,
      "outputs": []
    },
    {
      "cell_type": "code",
      "execution_count": 15,
      "metadata": {
        "id": "mw5oeukAY6bC"
      },
      "outputs": [],
      "source": [
        "def load_model_from_github_api(url):\n",
        "    \"\"\"\n",
        "    Loads a joblib model from GitHub using the GitHub API.\n",
        "\n",
        "    Args:\n",
        "        url (str): API URL of the GitHub repository file.\n",
        "\n",
        "    Returns:\n",
        "        model: The loaded model.\n",
        "    \"\"\"\n",
        "    # Send a request to the GitHub URL\n",
        "    response = requests.get(url, headers={'Accept': 'application/vnd.github.v3.raw'})\n",
        "    response.raise_for_status()  # Ensure the request was successful\n",
        "\n",
        "    # Load the model from the response content\n",
        "    model = joblib.load(BytesIO(response.content))\n",
        "    return model\n",
        "\n",
        "# Your file's API URL\n",
        "url = \"https://api.github.com/repos/mehurtado/QuantumProjects/contents/QuantumInspiredTransformers/Modules/linear_regression_model.joblib\"\n",
        "model = load_model_from_github_api(url)\n",
        "\n",
        "# Now you can use the loaded model\n",
        "# Example: model.predict(X_test)\n"
      ]
    },
    {
      "cell_type": "code",
      "source": [
        "def load_data_from_github(url):\n",
        "    \"\"\"\n",
        "    Loads data from a GitHub URL.\n",
        "\n",
        "    Args:\n",
        "        url (str): Raw GitHub URL to the CSV file.\n",
        "\n",
        "    Returns:\n",
        "        pd.DataFrame: DataFrame containing the loaded data.\n",
        "    \"\"\"\n",
        "    # Load the data directly from GitHub\n",
        "    data_df = pd.read_csv(url)\n",
        "    return data_df\n",
        "\n",
        "# Replace with the raw URL of your CSV file\n",
        "url = \"https://raw.githubusercontent.com/mehurtado/QuantumProjects/refs/heads/main/QuantumInspiredTransformers/Modules/AAPL_test_data.csv\"\n",
        "data_df = load_data_from_github(url)\n",
        "\n",
        "# Separate features and target if needed\n",
        "X_test = data_df.iloc[:, :-1].values  # Feature matrix\n",
        "y_test = data_df.iloc[:, -1].values   # Target vector\n"
      ],
      "metadata": {
        "id": "XTVzy_dOaggN"
      },
      "execution_count": 16,
      "outputs": []
    },
    {
      "cell_type": "code",
      "source": [
        "y_pred = model.predict(X_test)\n",
        "\n",
        "# Evaluate the model\n",
        "mse = mean_squared_error(y_test, y_pred)\n",
        "r2 = r2_score(y_test, y_pred)\n",
        "\n",
        "print(f\"Mean Squared Error: {mse}\")\n",
        "print(f\"R^2 Score: {r2}\")"
      ],
      "metadata": {
        "colab": {
          "base_uri": "https://localhost:8080/"
        },
        "id": "Zu-xkFSoY_vT",
        "outputId": "e4370851-f8b6-4756-9c8b-0e815f267627"
      },
      "execution_count": 19,
      "outputs": [
        {
          "output_type": "stream",
          "name": "stdout",
          "text": [
            "Mean Squared Error: 16.22199271013293\n",
            "R^2 Score: 0.9724706867517131\n"
          ]
        }
      ]
    },
    {
      "cell_type": "code",
      "source": [],
      "metadata": {
        "id": "eyVeRHstaoKB"
      },
      "execution_count": null,
      "outputs": []
    }
  ]
}