{
  "nbformat": 4,
  "nbformat_minor": 0,
  "metadata": {
    "colab": {
      "provenance": []
    },
    "kernelspec": {
      "name": "python3",
      "display_name": "Python 3"
    },
    "language_info": {
      "name": "python"
    }
  },
  "cells": [
    {
      "cell_type": "code",
      "source": [
        "import yfinance as yf\n",
        "import pandas as pd\n",
        "from google.colab import files\n",
        "import numpy as np\n",
        "from sklearn.model_selection import train_test_split"
      ],
      "metadata": {
        "id": "viJqw3UMM2Yx"
      },
      "execution_count": 15,
      "outputs": []
    },
    {
      "cell_type": "code",
      "source": [
        "def fetch_and_clean_stock_data(ticker, start_date, end_date, interval=\"1d\"):\n",
        "    \"\"\"\n",
        "    Fetches historical stock data, selects the 'Close' column, and fills missing values.\n",
        "\n",
        "    Args:\n",
        "        ticker (str): Stock ticker symbol.\n",
        "        start_date (str): Start date for data fetching.\n",
        "        end_date (str): End date for data fetching.\n",
        "        interval (str): Data interval (e.g., \"1d\").\n",
        "\n",
        "    Returns:\n",
        "        pd.DataFrame: Cleaned stock data with only the 'Close' column.\n",
        "    \"\"\"\n",
        "    stock_data = yf.download(ticker, start=start_date, end=end_date, interval=interval)\n",
        "    stock_data = stock_data[['Close']].dropna(how='all').ffill().bfill()\n",
        "    return stock_data\n",
        "\n",
        "def create_sliding_window(data, window_size=5):\n",
        "    \"\"\"\n",
        "    Creates a dataset using a sliding window approach and returns corresponding dates.\n",
        "\n",
        "    Args:\n",
        "        data (pd.DataFrame): DataFrame containing only the 'Close' column.\n",
        "        window_size (int): Number of previous days to consider in each sample.\n",
        "\n",
        "    Returns:\n",
        "        X (np.ndarray): Features for linear regression, each row contains `window_size` past closing prices.\n",
        "        y (np.ndarray): Target variable, the next closing price after each window.\n",
        "        dates (pd.Series): Dates corresponding to each target value.\n",
        "    \"\"\"\n",
        "    X, y, dates = [], [], []\n",
        "    for i in range(len(data) - window_size):\n",
        "        X.append(data['Close'].iloc[i:i+window_size].values.flatten())\n",
        "        y.append(data['Close'].iloc[i+window_size])\n",
        "        dates.append(data.index[i + window_size])  # Date corresponding to the target\n",
        "\n",
        "    return np.array(X), np.array(y), pd.Series(dates)\n",
        "\n",
        "def save_sliding_window_data(X, y, dates, ticker, window_size, test_size=0.2):\n",
        "    \"\"\"\n",
        "    Splits the data into training and testing sets, and saves them to CSV files with dates.\n",
        "\n",
        "    Args:\n",
        "        X (np.ndarray): Feature matrix with shape (num_samples, window_size).\n",
        "        y (np.ndarray): Target vector with shape (num_samples,).\n",
        "        dates (pd.Series): Series containing dates for each sample.\n",
        "        ticker (str): Stock ticker symbol, used for naming the file.\n",
        "        window_size (int): Number of previous days in each sample.\n",
        "        test_size (float): Proportion of the data to use as the test set.\n",
        "    \"\"\"\n",
        "    # Split the data into training and testing sets\n",
        "    X_train, X_test, y_train, y_test, dates_train, dates_test = train_test_split(\n",
        "        X, y, dates, test_size=test_size, random_state=42\n",
        "    )\n",
        "\n",
        "    # Prepare DataFrames for saving\n",
        "    train_columns = [f'Close_lag_{i+1}' for i in range(window_size)]\n",
        "    train_df = pd.DataFrame(X_train, columns=train_columns)\n",
        "    train_df['Target'] = y_train\n",
        "    train_df['Date'] = dates_train.values  # Add date column\n",
        "\n",
        "    test_columns = [f'Close_lag_{i+1}' for i in range(window_size)]\n",
        "    test_df = pd.DataFrame(X_test, columns=test_columns)\n",
        "    test_df['Target'] = y_test\n",
        "    test_df['Date'] = dates_test.values  # Add date column\n",
        "\n",
        "    # Save DataFrames to CSV files\n",
        "    train_filename = f\"{ticker}_train_data.csv\"\n",
        "    test_filename = f\"{ticker}_test_data.csv\"\n",
        "    train_df.to_csv(train_filename, index=False)\n",
        "    test_df.to_csv(test_filename, index=False)\n",
        "\n",
        "    print(f\"Training data saved as {train_filename}\")\n",
        "    print(f\"Testing data saved as {test_filename}\")\n",
        "\n",
        "    return train_filename, test_filename\n",
        "\n",
        "def save_file(filename):\n",
        "    \"\"\"\n",
        "    Downloads a file to the local machine.\n",
        "\n",
        "    Args:\n",
        "        filename (str): Name of the file to be downloaded.\n",
        "    \"\"\"\n",
        "    files.download(filename)"
      ],
      "metadata": {
        "id": "V5sJosESRdnb"
      },
      "execution_count": 20,
      "outputs": []
    },
    {
      "cell_type": "code",
      "source": [
        "# Configuration\n",
        "ticker = \"AAPL\"\n",
        "start_date = \"2019-01-01\"\n",
        "end_date = \"2023-12-31\"\n",
        "window_size = 365\n",
        "\n",
        "# Fetch, process, and save data\n",
        "stock_data = fetch_and_clean_stock_data(ticker, start_date, end_date)\n",
        "X, y, dates = create_sliding_window(stock_data, window_size=window_size)\n",
        "train_filename, test_filename = save_sliding_window_data(X, y, dates, ticker=ticker, window_size=window_size)"
      ],
      "metadata": {
        "id": "Z5cSGjUQK12_",
        "colab": {
          "base_uri": "https://localhost:8080/"
        },
        "outputId": "33aed94d-5844-46a4-b6eb-8ffe532b9826"
      },
      "execution_count": 22,
      "outputs": [
        {
          "output_type": "stream",
          "name": "stderr",
          "text": [
            "\r[*********************100%***********************]  1 of 1 completed\n"
          ]
        },
        {
          "output_type": "stream",
          "name": "stdout",
          "text": [
            "Training data saved as AAPL_train_data.csv\n",
            "Testing data saved as AAPL_test_data.csv\n"
          ]
        }
      ]
    },
    {
      "cell_type": "code",
      "source": [
        "save_file(train_filename)"
      ],
      "metadata": {
        "id": "W92RsOOIThSd",
        "colab": {
          "base_uri": "https://localhost:8080/",
          "height": 17
        },
        "outputId": "ce17216e-f818-46e6-b77a-d24cb5d2c655"
      },
      "execution_count": 23,
      "outputs": [
        {
          "output_type": "display_data",
          "data": {
            "text/plain": [
              "<IPython.core.display.Javascript object>"
            ],
            "application/javascript": [
              "\n",
              "    async function download(id, filename, size) {\n",
              "      if (!google.colab.kernel.accessAllowed) {\n",
              "        return;\n",
              "      }\n",
              "      const div = document.createElement('div');\n",
              "      const label = document.createElement('label');\n",
              "      label.textContent = `Downloading \"${filename}\": `;\n",
              "      div.appendChild(label);\n",
              "      const progress = document.createElement('progress');\n",
              "      progress.max = size;\n",
              "      div.appendChild(progress);\n",
              "      document.body.appendChild(div);\n",
              "\n",
              "      const buffers = [];\n",
              "      let downloaded = 0;\n",
              "\n",
              "      const channel = await google.colab.kernel.comms.open(id);\n",
              "      // Send a message to notify the kernel that we're ready.\n",
              "      channel.send({})\n",
              "\n",
              "      for await (const message of channel.messages) {\n",
              "        // Send a message to notify the kernel that we're ready.\n",
              "        channel.send({})\n",
              "        if (message.buffers) {\n",
              "          for (const buffer of message.buffers) {\n",
              "            buffers.push(buffer);\n",
              "            downloaded += buffer.byteLength;\n",
              "            progress.value = downloaded;\n",
              "          }\n",
              "        }\n",
              "      }\n",
              "      const blob = new Blob(buffers, {type: 'application/binary'});\n",
              "      const a = document.createElement('a');\n",
              "      a.href = window.URL.createObjectURL(blob);\n",
              "      a.download = filename;\n",
              "      div.appendChild(a);\n",
              "      a.click();\n",
              "      div.remove();\n",
              "    }\n",
              "  "
            ]
          },
          "metadata": {}
        },
        {
          "output_type": "display_data",
          "data": {
            "text/plain": [
              "<IPython.core.display.Javascript object>"
            ],
            "application/javascript": [
              "download(\"download_a5c4f237-3346-4be5-b4fd-631ec105168a\", \"AAPL_train_data.csv\", 4710836)"
            ]
          },
          "metadata": {}
        }
      ]
    },
    {
      "cell_type": "code",
      "source": [
        "save_file(test_filename)"
      ],
      "metadata": {
        "id": "QNLj9LH-Y64v",
        "outputId": "428057b7-42e2-4137-c6f9-d5e715d51820",
        "colab": {
          "base_uri": "https://localhost:8080/",
          "height": 17
        }
      },
      "execution_count": 24,
      "outputs": [
        {
          "output_type": "display_data",
          "data": {
            "text/plain": [
              "<IPython.core.display.Javascript object>"
            ],
            "application/javascript": [
              "\n",
              "    async function download(id, filename, size) {\n",
              "      if (!google.colab.kernel.accessAllowed) {\n",
              "        return;\n",
              "      }\n",
              "      const div = document.createElement('div');\n",
              "      const label = document.createElement('label');\n",
              "      label.textContent = `Downloading \"${filename}\": `;\n",
              "      div.appendChild(label);\n",
              "      const progress = document.createElement('progress');\n",
              "      progress.max = size;\n",
              "      div.appendChild(progress);\n",
              "      document.body.appendChild(div);\n",
              "\n",
              "      const buffers = [];\n",
              "      let downloaded = 0;\n",
              "\n",
              "      const channel = await google.colab.kernel.comms.open(id);\n",
              "      // Send a message to notify the kernel that we're ready.\n",
              "      channel.send({})\n",
              "\n",
              "      for await (const message of channel.messages) {\n",
              "        // Send a message to notify the kernel that we're ready.\n",
              "        channel.send({})\n",
              "        if (message.buffers) {\n",
              "          for (const buffer of message.buffers) {\n",
              "            buffers.push(buffer);\n",
              "            downloaded += buffer.byteLength;\n",
              "            progress.value = downloaded;\n",
              "          }\n",
              "        }\n",
              "      }\n",
              "      const blob = new Blob(buffers, {type: 'application/binary'});\n",
              "      const a = document.createElement('a');\n",
              "      a.href = window.URL.createObjectURL(blob);\n",
              "      a.download = filename;\n",
              "      div.appendChild(a);\n",
              "      a.click();\n",
              "      div.remove();\n",
              "    }\n",
              "  "
            ]
          },
          "metadata": {}
        },
        {
          "output_type": "display_data",
          "data": {
            "text/plain": [
              "<IPython.core.display.Javascript object>"
            ],
            "application/javascript": [
              "download(\"download_5ecafd5a-7e95-4827-aa40-7b325cc9ba10\", \"AAPL_test_data.csv\", 1183951)"
            ]
          },
          "metadata": {}
        }
      ]
    },
    {
      "cell_type": "code",
      "source": [],
      "metadata": {
        "id": "YmXY178PY9v_"
      },
      "execution_count": null,
      "outputs": []
    }
  ]
}