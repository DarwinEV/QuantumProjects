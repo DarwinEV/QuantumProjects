{
  "nbformat": 4,
  "nbformat_minor": 0,
  "metadata": {
    "colab": {
      "provenance": []
    },
    "kernelspec": {
      "name": "python3",
      "display_name": "Python 3"
    },
    "language_info": {
      "name": "python"
    }
  },
  "cells": [
    {
      "cell_type": "code",
      "source": [
        "import yfinance as yf\n",
        "import pandas as pd\n",
        "from google.colab import files\n",
        "import numpy as np\n",
        "from sklearn.model_selection import train_test_split"
      ],
      "metadata": {
        "id": "viJqw3UMM2Yx"
      },
      "execution_count": 56,
      "outputs": []
    },
    {
      "cell_type": "code",
      "source": [
        "def fetch_and_clean_stock_data(ticker, start_date, end_date, interval=\"1d\"):\n",
        "    stock_data = yf.download(ticker, start=start_date, end=end_date, interval=interval)\n",
        "    stock_data = stock_data[['Close']]  # Select only the 'Close' column\n",
        "    stock_data = stock_data.dropna(how='all')  # Drop rows where 'Close' is NaN\n",
        "    stock_data = stock_data.ffill().bfill()  # Forward-fill and back-fill missing values\n",
        "    return stock_data\n",
        "\n",
        "def create_sliding_window(data, window_size=5):\n",
        "    \"\"\"\n",
        "    Creates a dataset using a sliding window approach.\n",
        "\n",
        "    Args:\n",
        "        data (pd.DataFrame): DataFrame containing only the 'Close' column.\n",
        "        window_size (int): Number of previous days to consider in each sample.\n",
        "\n",
        "    Returns:\n",
        "        X (np.ndarray): Features for linear regression, each row contains `window_size` past closing prices.\n",
        "        y (np.ndarray): Target variable, the next closing price after each window.\n",
        "    \"\"\"\n",
        "    X = []\n",
        "    y = []\n",
        "\n",
        "    for i in range(len(data) - window_size):\n",
        "        # Flatten the window to a 1D array\n",
        "        X.append(data['Close'].iloc[i:i+window_size].values.flatten())\n",
        "        y.append(data['Close'].iloc[i+window_size])\n",
        "\n",
        "    return np.array(X), np.array(y)\n",
        "\n",
        "def save_sliding_window_data(X, y, ticker, window_size, test_size=0.2):\n",
        "    \"\"\"\n",
        "    Splits the data into training and testing sets, and saves them to CSV files.\n",
        "\n",
        "    Args:\n",
        "        X (np.ndarray): Feature matrix with shape (num_samples, window_size).\n",
        "        y (np.ndarray): Target vector with shape (num_samples,).\n",
        "        ticker (str): Stock ticker symbol, used for naming the file.\n",
        "        window_size (int): Number of previous days in each sample.\n",
        "        test_size (float): Proportion of the data to use as the test set.\n",
        "    \"\"\"\n",
        "    # Split the data into training and testing sets\n",
        "    X_train, X_test, y_train, y_test = train_test_split(X, y, test_size=test_size, random_state=42)\n",
        "\n",
        "    # Convert X_train, y_train, X_test, and y_test to DataFrames for saving\n",
        "    train_columns = [f'Close_lag_{i+1}' for i in range(window_size)]\n",
        "    train_df = pd.DataFrame(X_train, columns=train_columns)\n",
        "    train_df['Target'] = y_train\n",
        "\n",
        "    test_columns = [f'Close_lag_{i+1}' for i in range(window_size)]\n",
        "    test_df = pd.DataFrame(X_test, columns=test_columns)\n",
        "    test_df['Target'] = y_test\n",
        "\n",
        "    # Save the DataFrames to CSV files\n",
        "    train_filename = f\"{ticker}_train_data.csv\"\n",
        "    test_filename = f\"{ticker}_test_data.csv\"\n",
        "    train_df.to_csv(train_filename, index=False)\n",
        "    test_df.to_csv(test_filename, index=False)\n",
        "\n",
        "    print(f\"Training data saved as {train_filename}\")\n",
        "    print(f\"Testing data saved as {test_filename}\")\n",
        "\n",
        "    # Download the files to the local machine (Colab)\n",
        "    files.download(train_filename)\n",
        "    files.download(test_filename)"
      ],
      "metadata": {
        "id": "V5sJosESRdnb"
      },
      "execution_count": 57,
      "outputs": []
    },
    {
      "cell_type": "code",
      "source": [
        "ticker = \"AAPL\"  # Example stock ticker\n",
        "start_date = \"2019-01-01\"\n",
        "end_date = \"2023-12-31\"\n",
        "window_size = 365\n",
        "\n",
        "# Fetch, clean, and prepare data\n",
        "stock_data = fetch_and_clean_stock_data(ticker, start_date, end_date)\n",
        "X, y = create_sliding_window(stock_data, window_size=window_size)\n",
        "\n",
        "save_sliding_window_data(X, y, ticker=ticker, window_size=window_size)"
      ],
      "metadata": {
        "id": "Z5cSGjUQK12_",
        "colab": {
          "base_uri": "https://localhost:8080/",
          "height": 69
        },
        "outputId": "97f1bc91-eeb4-4b0a-d542-7e5f3acef6e4"
      },
      "execution_count": 58,
      "outputs": [
        {
          "output_type": "stream",
          "name": "stderr",
          "text": [
            "\r[*********************100%***********************]  1 of 1 completed\n"
          ]
        },
        {
          "output_type": "stream",
          "name": "stdout",
          "text": [
            "Training data saved as AAPL_train_data.csv\n",
            "Testing data saved as AAPL_test_data.csv\n"
          ]
        },
        {
          "output_type": "display_data",
          "data": {
            "text/plain": [
              "<IPython.core.display.Javascript object>"
            ],
            "application/javascript": [
              "\n",
              "    async function download(id, filename, size) {\n",
              "      if (!google.colab.kernel.accessAllowed) {\n",
              "        return;\n",
              "      }\n",
              "      const div = document.createElement('div');\n",
              "      const label = document.createElement('label');\n",
              "      label.textContent = `Downloading \"${filename}\": `;\n",
              "      div.appendChild(label);\n",
              "      const progress = document.createElement('progress');\n",
              "      progress.max = size;\n",
              "      div.appendChild(progress);\n",
              "      document.body.appendChild(div);\n",
              "\n",
              "      const buffers = [];\n",
              "      let downloaded = 0;\n",
              "\n",
              "      const channel = await google.colab.kernel.comms.open(id);\n",
              "      // Send a message to notify the kernel that we're ready.\n",
              "      channel.send({})\n",
              "\n",
              "      for await (const message of channel.messages) {\n",
              "        // Send a message to notify the kernel that we're ready.\n",
              "        channel.send({})\n",
              "        if (message.buffers) {\n",
              "          for (const buffer of message.buffers) {\n",
              "            buffers.push(buffer);\n",
              "            downloaded += buffer.byteLength;\n",
              "            progress.value = downloaded;\n",
              "          }\n",
              "        }\n",
              "      }\n",
              "      const blob = new Blob(buffers, {type: 'application/binary'});\n",
              "      const a = document.createElement('a');\n",
              "      a.href = window.URL.createObjectURL(blob);\n",
              "      a.download = filename;\n",
              "      div.appendChild(a);\n",
              "      a.click();\n",
              "      div.remove();\n",
              "    }\n",
              "  "
            ]
          },
          "metadata": {}
        },
        {
          "output_type": "display_data",
          "data": {
            "text/plain": [
              "<IPython.core.display.Javascript object>"
            ],
            "application/javascript": [
              "download(\"download_d7462078-7c47-4a53-bdbe-aa47d2afe6d6\", \"AAPL_train_data.csv\", 4702977)"
            ]
          },
          "metadata": {}
        },
        {
          "output_type": "display_data",
          "data": {
            "text/plain": [
              "<IPython.core.display.Javascript object>"
            ],
            "application/javascript": [
              "\n",
              "    async function download(id, filename, size) {\n",
              "      if (!google.colab.kernel.accessAllowed) {\n",
              "        return;\n",
              "      }\n",
              "      const div = document.createElement('div');\n",
              "      const label = document.createElement('label');\n",
              "      label.textContent = `Downloading \"${filename}\": `;\n",
              "      div.appendChild(label);\n",
              "      const progress = document.createElement('progress');\n",
              "      progress.max = size;\n",
              "      div.appendChild(progress);\n",
              "      document.body.appendChild(div);\n",
              "\n",
              "      const buffers = [];\n",
              "      let downloaded = 0;\n",
              "\n",
              "      const channel = await google.colab.kernel.comms.open(id);\n",
              "      // Send a message to notify the kernel that we're ready.\n",
              "      channel.send({})\n",
              "\n",
              "      for await (const message of channel.messages) {\n",
              "        // Send a message to notify the kernel that we're ready.\n",
              "        channel.send({})\n",
              "        if (message.buffers) {\n",
              "          for (const buffer of message.buffers) {\n",
              "            buffers.push(buffer);\n",
              "            downloaded += buffer.byteLength;\n",
              "            progress.value = downloaded;\n",
              "          }\n",
              "        }\n",
              "      }\n",
              "      const blob = new Blob(buffers, {type: 'application/binary'});\n",
              "      const a = document.createElement('a');\n",
              "      a.href = window.URL.createObjectURL(blob);\n",
              "      a.download = filename;\n",
              "      div.appendChild(a);\n",
              "      a.click();\n",
              "      div.remove();\n",
              "    }\n",
              "  "
            ]
          },
          "metadata": {}
        },
        {
          "output_type": "display_data",
          "data": {
            "text/plain": [
              "<IPython.core.display.Javascript object>"
            ],
            "application/javascript": [
              "download(\"download_4739b610-9b83-44ed-a2d5-ed31f6d30195\", \"AAPL_test_data.csv\", 1181977)"
            ]
          },
          "metadata": {}
        }
      ]
    },
    {
      "cell_type": "code",
      "source": [],
      "metadata": {
        "id": "W92RsOOIThSd"
      },
      "execution_count": null,
      "outputs": []
    }
  ]
}