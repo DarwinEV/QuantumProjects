{
 "cells": [
  {
   "cell_type": "code",
   "execution_count": 1,
   "id": "a61e91cd-d058-41e3-828a-073c7de9a6f8",
   "metadata": {},
   "outputs": [],
   "source": [
    "import numpy as np\n",
    "import pandas as pd\n",
    "import yfinance as yf\n",
    "import matplotlib.pyplot as plt\n",
    "import math\n",
    "from sklearn.linear_model import LinearRegression\n",
    "from sklearn.model_selection import train_test_split\n",
    "from util import get_stock, bin_data, split_data"
   ]
  },
  {
   "cell_type": "code",
   "execution_count": 2,
   "id": "6ca4aec0-8af8-4e5c-984a-7f40af851907",
   "metadata": {},
   "outputs": [
    {
     "name": "stderr",
     "output_type": "stream",
     "text": [
      "[*********************100%***********************]  1 of 1 completed\n"
     ]
    }
   ],
   "source": [
    "# Define parameters\n",
    "stock = ['^GSPC', '1980-01-01', '2024-10-01']\n",
    "\n",
    "# Get the stock data, makes bins, and split the data\n",
    "df, index = get_stock(stock[1], stock[2], stock[0])\n",
    "bin_size = 365\n",
    "bins = bin_data(df, bin_size)\n",
    "X_train, y_train, X_test, y_test, train_index, test_index, train_size, test_size = split_data(bins, df, index, bin_size)"
   ]
  },
  {
   "cell_type": "markdown",
   "id": "1c010807-8a7f-4635-a04a-a64d5518ae24",
   "metadata": {},
   "source": [
    "# Train The Linear Model\n",
    "\n",
    "### Specifics:\n",
    "Consider the time series data input as a vector $x = \\begin{bmatrix} x_{t - k} \\\\  \\dots \\\\ x_{t-1} \\end{bmatrix}$\n",
    "\n",
    "let $x^* = \\begin{bmatrix} 1 \\\\ x \\end{bmatrix}$\n",
    "and $w = \\begin{bmatrix} b \\\\  w_{t-k} \\\\  \\vdots \\\\  w_{t-1} \\end{bmatrix}$\n",
    "\n",
    "We make $x_0 = 1$ and $w_0 = b$ the bias term\n",
    "\n",
    "We minimize the Mean Squared Error:\n",
    "$MSE = \\frac{1}{n} \\sum_{i = 1}^{n} (w^T x_i - y_i)^2$ and find the optimal weights by taking the derivative and solving for $w$\n",
    "\n",
    "$$\\min_{w \\in R^{k + 1}} \\enspace MSE = \\min_{ w \\in R^{k + 1}} \\enspace \\frac{1}{n} \\sum_{i = 1}^{n} ( w^T  x_i - y_i)^2 \n",
    "$$\n",
    "    $$\\implies \\frac{\\partial}{\\partial  w} \\left [ \\frac{1}{n} \\sum_{i = 1}^{n} \\left [ ( w^T  x_i)^2 - 2 y_i  w^T  x_i + y_i^2 \\right ] \\right ] = 0 \\\\\n",
    "    \\sum_{i = 1}^{n} \\left [ \\left ( 2  w^T  x_i \\right )  x_i - 2 y_i  x_i \\right ] = 0$$\n",
    "\n",
    "let $X = bins$\n",
    "\n",
    "$$2  X ( X  w^T)^T - 2  X  y = 0$$\n",
    "$$ X  X^T  w =  X  y $$\n",
    "$$w = \\left (  X  X^T \\right )^{-1}  X  y$$"
   ]
  },
  {
   "cell_type": "code",
   "execution_count": 3,
   "id": "c75d8a53-9f52-4308-a095-4e75ec543970",
   "metadata": {},
   "outputs": [
    {
     "name": "stdout",
     "output_type": "stream",
     "text": [
      "[ 1.28918852e-02 -4.18843609e-03  2.02548956e-02 -3.48470955e-02\n",
      "  1.20410617e-02 -1.05403039e-02  4.91985116e-03 -4.77124269e-03\n",
      "  1.14557891e-02 -8.31564393e-03 -1.32889920e-02  2.34214207e-02\n",
      "  7.91363145e-03 -1.08364344e-02  2.79973077e-04 -1.18696643e-02\n",
      "  1.20110802e-02 -7.30969593e-03  1.12234840e-02 -2.05913398e-02\n",
      "  1.84947114e-02 -2.66569837e-03  5.40634128e-04  1.42189023e-02\n",
      " -5.88658868e-02  1.70935744e-02  7.47465189e-03  7.01724434e-03\n",
      " -2.24899543e-02  3.21055306e-02 -1.37757457e-02  8.97504634e-04\n",
      " -5.93048265e-03  2.01672132e-02  1.28175656e-02  6.43592420e-04\n",
      " -1.77560675e-02 -1.96493719e-02 -4.98119186e-03  3.25306798e-02\n",
      "  1.66148495e-03 -5.62022770e-03 -3.71687867e-03 -1.30870403e-02\n",
      "  3.47405043e-02 -3.15382318e-02  2.04533551e-02 -3.40733999e-02\n",
      "  5.42276149e-03  2.00392558e-02 -8.79536420e-03  2.05684145e-02\n",
      " -1.62319941e-02 -1.28226036e-02  2.87186950e-02  2.42090936e-03\n",
      " -2.94661409e-02  3.76274015e-02 -9.57476243e-03 -2.12633063e-02\n",
      "  1.23387482e-02 -2.67836060e-02  6.84323380e-03  1.16888495e-02\n",
      "  2.36090032e-02 -4.95514548e-02  2.65509703e-02  3.86177293e-02\n",
      " -3.51329468e-02  9.06768623e-03 -7.15726786e-03 -3.70904547e-03\n",
      "  1.14389234e-04  2.42670584e-02  4.38473050e-03 -5.38095845e-02\n",
      "  2.67868572e-02 -1.74699496e-02  1.20567353e-02  1.05809780e-02\n",
      " -3.77030400e-03 -4.37287137e-02  4.26601680e-02 -6.52851048e-03\n",
      "  2.13887247e-02 -1.87133705e-02 -5.11489567e-04  1.40933785e-03\n",
      "  1.41450926e-02  1.28160497e-02 -5.37444621e-02  3.42755923e-02\n",
      " -3.24356760e-02  5.51723993e-02 -4.50981791e-02  2.84725375e-02\n",
      " -2.95749720e-02  2.04742728e-02  2.02988087e-02 -3.26911962e-02\n",
      " -6.35613996e-03  2.63049102e-02  3.21591389e-04 -1.08035930e-02\n",
      "  1.39501825e-02 -3.31208897e-03 -2.37029045e-02  2.51574188e-02\n",
      " -9.33036508e-03 -3.98396580e-03  1.04899069e-02 -1.66728454e-02\n",
      "  1.65722146e-02 -5.06459292e-03 -3.53604707e-02  3.48015727e-02\n",
      " -4.60938026e-03  1.38845973e-02 -4.57219079e-02  2.52932952e-02\n",
      " -2.39194738e-02  1.42836004e-02  4.13778304e-02 -2.94674300e-02\n",
      " -3.43134186e-03 -1.58297862e-02  1.12909377e-02  3.08541671e-02\n",
      " -3.87383410e-03 -5.80233396e-03 -1.12226351e-02 -2.33119707e-02\n",
      "  4.42330828e-02 -1.07697365e-02 -4.42128202e-02  2.71220905e-02\n",
      "  3.32307519e-02 -6.11064157e-03 -1.36052409e-02  2.11169291e-02\n",
      " -2.46799533e-02 -7.65143402e-03  1.98312763e-02 -4.66548899e-04\n",
      " -2.22318819e-02  4.22217931e-02 -5.75658779e-02  1.16720928e-02\n",
      "  4.73335126e-03 -7.48286622e-03  9.69434736e-03 -7.95925972e-03\n",
      "  1.20838281e-02  1.32509769e-02  3.22816388e-03 -2.02845152e-02\n",
      "  8.74984412e-03  2.28468168e-02 -4.89195019e-02  9.00569004e-03\n",
      "  1.13788482e-02  1.01440693e-02 -2.02208790e-02  1.50252283e-02\n",
      " -7.89261935e-03  2.42611393e-02 -3.69002689e-02  1.99403770e-02\n",
      "  7.29352320e-04 -1.42921488e-02  1.45614512e-02 -1.61246807e-03\n",
      "  7.67241474e-03 -4.56896033e-03  1.69957149e-02  2.79736281e-03\n",
      " -2.34437633e-02  7.42960688e-03  1.47921022e-02 -2.28529229e-02\n",
      " -1.99373078e-02 -5.14898882e-03  6.68692579e-03  1.77310919e-02\n",
      " -2.09262554e-02  5.98006456e-03  2.74451985e-02 -1.68990421e-02\n",
      "  7.04567280e-03 -3.26723432e-02  1.74525280e-02  4.90600496e-03\n",
      "  1.52175304e-02 -2.54871553e-02  4.19003827e-02 -4.46364819e-03\n",
      " -1.51328180e-02  1.30343217e-03  1.02493106e-02 -9.08335391e-03\n",
      "  1.96242524e-03  1.47439868e-02 -1.35941550e-02 -3.26158500e-02\n",
      "  8.64384441e-03 -7.10928403e-03  1.68807482e-02  4.91757758e-03\n",
      " -1.82539527e-02  1.93662214e-02 -8.84440517e-03  1.36805119e-02\n",
      "  1.33576675e-02 -2.89909691e-02 -3.53058708e-03  1.79472758e-02\n",
      " -1.84978215e-03 -8.18500244e-03  9.54027178e-03 -7.03528015e-03\n",
      "  1.48286146e-02 -1.23968943e-02  6.02543380e-03 -4.45343961e-03\n",
      "  1.33621878e-02 -1.09515351e-03 -6.82951317e-03  7.57586537e-04\n",
      " -3.00731178e-02  2.79605033e-02  3.60200358e-03  7.24435631e-03\n",
      "  1.78611659e-02 -1.17288331e-02 -1.90366022e-02  3.63251848e-03\n",
      " -8.01291978e-03  1.33865718e-02 -1.18527591e-04 -1.75725419e-02\n",
      "  2.33317742e-03 -8.70701321e-03  2.47141294e-02  1.06784989e-02\n",
      " -2.22109868e-02 -1.94037050e-02 -2.53165697e-03  2.13354136e-02\n",
      " -1.39658565e-03  2.90462691e-02 -4.59099467e-02 -1.55225983e-02\n",
      "  2.79226126e-02  1.15563428e-02 -5.25979958e-03 -4.92292321e-03\n",
      "  1.53509925e-02 -1.82175268e-02 -1.18028657e-02  2.69405419e-03\n",
      "  2.96674176e-02 -3.00662871e-02 -9.83010763e-03  3.64510608e-02\n",
      " -2.98232312e-02  2.35364089e-02 -1.98481575e-02  1.16343019e-02\n",
      " -1.92998453e-02  1.76959507e-02  8.38903163e-04  3.76554105e-02\n",
      " -4.04654202e-02  1.31299418e-02  5.79130082e-03  6.37801110e-03\n",
      " -1.03128749e-02 -2.01055705e-02  2.65366756e-02 -3.21009080e-02\n",
      "  1.08013041e-02  8.71690352e-03 -6.88050506e-03 -4.50665593e-03\n",
      " -7.79279201e-03  3.29205150e-02 -5.33744959e-03 -4.20844917e-02\n",
      "  1.82510992e-02  2.14508357e-02 -8.85126195e-03 -2.61056277e-02\n",
      "  3.16080390e-02 -2.61782885e-02  3.22588879e-02 -2.02127741e-02\n",
      "  4.41900481e-04  2.79629909e-03  1.37390364e-02 -1.67328370e-03\n",
      "  8.58508332e-03 -2.77680945e-03 -2.37608401e-02  1.50667115e-02\n",
      " -1.62704651e-02  4.06648657e-02 -3.12637762e-02 -2.22445300e-02\n",
      "  3.79059611e-02 -1.60653460e-02 -5.43247553e-03 -1.65935492e-02\n",
      "  3.73004342e-02 -2.55449173e-02  4.49092751e-02 -4.27354921e-03\n",
      " -2.02075146e-02 -3.33759304e-02  3.14934139e-02  3.02959266e-03\n",
      " -8.49046521e-03  2.93531713e-02 -1.80003564e-02 -1.95827854e-02\n",
      "  1.20754007e-02 -3.10844534e-02  3.44312022e-02  4.60790883e-03\n",
      " -3.01367562e-02  2.97923683e-02  4.06866922e-02 -2.80123408e-02\n",
      " -1.38786967e-02  2.90727087e-03 -1.30481996e-02  4.54762006e-03\n",
      "  6.49643298e-03 -4.41449227e-02  4.57430107e-02  1.00582395e-02\n",
      " -2.92478635e-02 -2.25300276e-04  9.83554566e-03  2.35825162e-02\n",
      " -3.05521421e-02 -3.99077632e-03  5.26858480e-02 -5.99701180e-02\n",
      " -6.56345802e-03  6.74843279e-02 -2.49081922e-02 -4.15123107e-02\n",
      " -2.09996801e-02  6.34145991e-02 -3.60526290e-02  3.09965274e-02\n",
      " -2.66946737e-02  3.52632262e-02 -4.82365512e-03  1.55562047e-02\n",
      " -8.68849308e-03 -7.97541744e-03  2.00329785e-02  1.67782729e-02\n",
      "  9.47199306e-01]\n",
      "0.29731994813812435\n"
     ]
    }
   ],
   "source": [
    "model = LinearRegression()\n",
    "model.fit(X_train, y_train)\n",
    "print(model.coef_) # weights, size is bin size\n",
    "print(model.intercept_) # bias"
   ]
  },
  {
   "cell_type": "code",
   "execution_count": 4,
   "id": "0e187ee6-646f-404f-b228-07dec083b23c",
   "metadata": {},
   "outputs": [
    {
     "name": "stdout",
     "output_type": "stream",
     "text": [
      "(2183,) (2183,)\n",
      "prediction: 1904.0 | actual: 1882.0 | difference: 22.0\n",
      "prediction: 1886.0 | actual: 1893.0 | difference: 7.0\n",
      "prediction: 1891.0 | actual: 1940.0 | difference: 49.0\n",
      "prediction: 1940.0 | actual: 1939.0 | difference: 1.0\n",
      "prediction: 1931.0 | actual: 1903.0 | difference: 28.0\n",
      "prediction: 1905.0 | actual: 1912.0 | difference: 7.0\n",
      "prediction: 1915.0 | actual: 1915.0 | difference: 0.0\n",
      "prediction: 1912.0 | actual: 1880.0 | difference: 32.0\n",
      "prediction: 1886.0 | actual: 1853.0 | difference: 33.0\n",
      "prediction: 1868.0 | actual: 1852.0 | difference: 16.0\n",
      "prediction: 1846.0 | actual: 1851.0 | difference: 5.0\n",
      "prediction: 1845.0 | actual: 1829.0 | difference: 16.0\n",
      "prediction: 1831.0 | actual: 1864.0 | difference: 33.0\n",
      "prediction: 1867.0 | actual: 1895.0 | difference: 28.0\n",
      "prediction: 1894.0 | actual: 1926.0 | difference: 32.0\n",
      "prediction: 1920.0 | actual: 1917.0 | difference: 3.0\n",
      "prediction: 1918.0 | actual: 1917.0 | difference: 1.0\n",
      "prediction: 1914.0 | actual: 1945.0 | difference: 31.0\n",
      "prediction: 1939.0 | actual: 1921.0 | difference: 18.0\n",
      "prediction: 1928.0 | actual: 1929.0 | difference: 1.0\n",
      "prediction: 1930.0 | actual: 1951.0 | difference: 21.0\n",
      "(2183, 365)\n"
     ]
    }
   ],
   "source": [
    "# now we make some predictions\n",
    "y_pred = np.floor(model.predict(X_test))\n",
    "y_test = np.floor(y_test)\n",
    "print(y_pred.shape, y_test.shape)\n",
    "\n",
    "for i in range(math.floor(len(y_pred) * 0.01)):\n",
    "    print(\"prediction:\", y_pred[i], \"| actual:\", y_test[i], \"| difference:\", abs(y_pred[i] - y_test[i]))\n",
    "# print(y_pred)\n",
    "print(X_test.shape)\n"
   ]
  },
  {
   "cell_type": "code",
   "execution_count": 5,
   "id": "c9aa79a8-b799-4832-a4af-6250c064c5df",
   "metadata": {},
   "outputs": [
    {
     "name": "stdout",
     "output_type": "stream",
     "text": [
      "0.9982399040629543\n"
     ]
    }
   ],
   "source": [
    "print(model.score(X_test, y_test))"
   ]
  },
  {
   "cell_type": "markdown",
   "id": "440b3492-f586-486a-8f10-ddbc33cadf94",
   "metadata": {},
   "source": [
    "# Results\n",
    "As can be seen, the results are relatively close to the actual values if we adjust for a small margin of error."
   ]
  },
  {
   "cell_type": "code",
   "execution_count": 6,
   "id": "19e7ac9d-f744-485e-ba24-8be55f0f400b",
   "metadata": {},
   "outputs": [
    {
     "name": "stdout",
     "output_type": "stream",
     "text": [
      "(8732,) (2183,)\n"
     ]
    },
    {
     "data": {
      "image/png": "[encoded data removed]",
      "text/plain": [
       "<Figure size 640x480 with 1 Axes>"
      ]
     },
     "metadata": {},
     "output_type": "display_data"
    },
    {
     "name": "stdout",
     "output_type": "stream",
     "text": [
      "Correctly Classified: 1832/2183\n",
      "Accuracy: 83.92120934493816%, error_margin of $50\n",
      "Correctly Classified: 2116/2183\n",
      "Accuracy: 96.93082913421897%, error_margin of $100\n"
     ]
    }
   ],
   "source": [
    "print(train_index.shape, test_index.shape)\n",
    "plt.plot(test_index, y_test, label=\"actual\")\n",
    "plt.plot(test_index, y_pred, color=\"red\", label=\"predictions\")\n",
    "plt.title(\"Test data\")\n",
    "plt.ylabel(\"Price\")\n",
    "plt.xlabel(\"Days\")\n",
    "plt.legend()\n",
    "plt.show()\n",
    "\n",
    "error_margin = 50\n",
    "results = abs(y_pred - y_test) <= error_margin\n",
    "print(f\"Correctly Classified: {np.sum(results)}/{len(results)}\")\n",
    "print(f\"Accuracy: {100 * np.sum(results) / len(results)}%, error_margin of ${error_margin}\")\n",
    "\n",
    "error_margin = 100\n",
    "results = abs(y_pred - y_test) <= error_margin\n",
    "print(f\"Correctly Classified: {np.sum(results)}/{len(results)}\")\n",
    "print(f\"Accuracy: {100 * np.sum(results) / len(results)}%, error_margin of ${error_margin}\")"
   ]
  },
  {
   "cell_type": "code",
   "execution_count": null,
   "id": "3052fb0b-a3a9-45a5-a0d2-7d5a9aa7e521",
   "metadata": {},
   "outputs": [],
   "source": []
  }
 ],
 "metadata": {
  "kernelspec": {
   "display_name": "Python 3 (ipykernel)",
   "language": "python",
   "name": "python3"
  },
  "language_info": {
   "codemirror_mode": {
    "name": "ipython",
    "version": 3
   },
   "file_extension": ".py",
   "mimetype": "text/x-python",
   "name": "python",
   "nbconvert_exporter": "python",
   "pygments_lexer": "ipython3",
   "version": "3.12.3"
  }
 },
 "nbformat": 4,
 "nbformat_minor": 5
}
