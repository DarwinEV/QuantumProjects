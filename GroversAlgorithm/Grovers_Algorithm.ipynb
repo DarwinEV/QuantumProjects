{
  "nbformat": 4,
  "nbformat_minor": 0,
  "metadata": {
    "colab": {
      "provenance": [],
      "authorship_tag": "ABX9TyO2PbhftwQkC0il4NfkSk8i"
    },
    "kernelspec": {
      "name": "python3",
      "display_name": "Python 3"
    },
    "language_info": {
      "name": "python"
    }
  },
  "cells": [
    {
      "cell_type": "code",
      "execution_count": 1,
      "metadata": {
        "colab": {
          "base_uri": "https://localhost:8080/"
        },
        "id": "3hmCBvPC0fC8",
        "outputId": "385af174-f8cf-4a73-c09c-2b87d03a4cce"
      },
      "outputs": [
        {
          "output_type": "stream",
          "name": "stdout",
          "text": [
            "\u001b[2K     \u001b[90m━━━━━━━━━━━━━━━━━━━━━━━━━━━━━━━━━━━━━━━━\u001b[0m \u001b[32m5.6/5.6 MB\u001b[0m \u001b[31m18.5 MB/s\u001b[0m eta \u001b[36m0:00:00\u001b[0m\n",
            "\u001b[2K     \u001b[90m━━━━━━━━━━━━━━━━━━━━━━━━━━━━━━━━━━━━━━━━\u001b[0m \u001b[32m2.1/2.1 MB\u001b[0m \u001b[31m21.7 MB/s\u001b[0m eta \u001b[36m0:00:00\u001b[0m\n",
            "\u001b[2K     \u001b[90m━━━━━━━━━━━━━━━━━━━━━━━━━━━━━━━━━━━━━━━━\u001b[0m \u001b[32m116.3/116.3 kB\u001b[0m \u001b[31m7.2 MB/s\u001b[0m eta \u001b[36m0:00:00\u001b[0m\n",
            "\u001b[2K     \u001b[90m━━━━━━━━━━━━━━━━━━━━━━━━━━━━━━━━━━━━━━━━\u001b[0m \u001b[32m49.7/49.7 kB\u001b[0m \u001b[31m1.8 MB/s\u001b[0m eta \u001b[36m0:00:00\u001b[0m\n",
            "\u001b[2K     \u001b[90m━━━━━━━━━━━━━━━━━━━━━━━━━━━━━━━━━━━━━━━━\u001b[0m \u001b[32m39.4/39.4 MB\u001b[0m \u001b[31m8.5 MB/s\u001b[0m eta \u001b[36m0:00:00\u001b[0m\n",
            "\u001b[2K     \u001b[90m━━━━━━━━━━━━━━━━━━━━━━━━━━━━━━━━━━━━━━━━\u001b[0m \u001b[32m162.6/162.6 kB\u001b[0m \u001b[31m7.3 MB/s\u001b[0m eta \u001b[36m0:00:00\u001b[0m\n",
            "\u001b[?25h  Preparing metadata (setup.py) ... \u001b[?25l\u001b[?25hdone\n",
            "\u001b[2K     \u001b[90m━━━━━━━━━━━━━━━━━━━━━━━━━━━━━━━━━━━━━━━━\u001b[0m \u001b[32m107.5/107.5 kB\u001b[0m \u001b[31m9.0 MB/s\u001b[0m eta \u001b[36m0:00:00\u001b[0m\n",
            "\u001b[?25h  Building wheel for pylatexenc (setup.py) ... \u001b[?25l\u001b[?25hdone\n",
            "\u001b[2K     \u001b[90m━━━━━━━━━━━━━━━━━━━━━━━━━━━━━━━━━━━━━━━━\u001b[0m \u001b[32m12.4/12.4 MB\u001b[0m \u001b[31m35.8 MB/s\u001b[0m eta \u001b[36m0:00:00\u001b[0m\n",
            "\u001b[2K     \u001b[90m━━━━━━━━━━━━━━━━━━━━━━━━━━━━━━━━━━━━━━━━\u001b[0m \u001b[32m2.9/2.9 MB\u001b[0m \u001b[31m6.9 MB/s\u001b[0m eta \u001b[36m0:00:00\u001b[0m\n",
            "\u001b[2K     \u001b[90m━━━━━━━━━━━━━━━━━━━━━━━━━━━━━━━━━━━━━━━━\u001b[0m \u001b[32m324.4/324.4 kB\u001b[0m \u001b[31m13.1 MB/s\u001b[0m eta \u001b[36m0:00:00\u001b[0m\n",
            "\u001b[?25h  Installing build dependencies ... \u001b[?25l\u001b[?25hdone\n",
            "  Getting requirements to build wheel ... \u001b[?25l\u001b[?25hdone\n",
            "  Preparing metadata (pyproject.toml) ... \u001b[?25l\u001b[?25hdone\n",
            "\u001b[2K     \u001b[90m━━━━━━━━━━━━━━━━━━━━━━━━━━━━━━━━━━━━━━━━\u001b[0m \u001b[32m4.3/4.3 MB\u001b[0m \u001b[31m22.4 MB/s\u001b[0m eta \u001b[36m0:00:00\u001b[0m\n",
            "\u001b[2K     \u001b[90m━━━━━━━━━━━━━━━━━━━━━━━━━━━━━━━━━━━━━━━━\u001b[0m \u001b[32m62.1/62.1 kB\u001b[0m \u001b[31m7.1 MB/s\u001b[0m eta \u001b[36m0:00:00\u001b[0m\n",
            "\u001b[?25h  Installing build dependencies ... \u001b[?25l\u001b[?25hdone\n",
            "  Getting requirements to build wheel ... \u001b[?25l\u001b[?25hdone\n",
            "  Preparing metadata (pyproject.toml) ... \u001b[?25l\u001b[?25hdone\n",
            "\u001b[2K     \u001b[90m━━━━━━━━━━━━━━━━━━━━━━━━━━━━━━━━━━━━━━━━\u001b[0m \u001b[32m130.4/130.4 kB\u001b[0m \u001b[31m13.5 MB/s\u001b[0m eta \u001b[36m0:00:00\u001b[0m\n",
            "\u001b[2K     \u001b[90m━━━━━━━━━━━━━━━━━━━━━━━━━━━━━━━━━━━━━━━━\u001b[0m \u001b[32m121.4/121.4 kB\u001b[0m \u001b[31m13.9 MB/s\u001b[0m eta \u001b[36m0:00:00\u001b[0m\n",
            "\u001b[?25h  Building wheel for ibm-platform-services (pyproject.toml) ... \u001b[?25l\u001b[?25hdone\n",
            "  Building wheel for ibm-cloud-sdk-core (pyproject.toml) ... \u001b[?25l\u001b[?25hdone\n",
            "\u001b[2K     \u001b[90m━━━━━━━━━━━━━━━━━━━━━━━━━━━━━━━━━━━━━━━━\u001b[0m \u001b[32m42.2/42.2 kB\u001b[0m \u001b[31m1.4 MB/s\u001b[0m eta \u001b[36m0:00:00\u001b[0m\n",
            "\u001b[2K     \u001b[90m━━━━━━━━━━━━━━━━━━━━━━━━━━━━━━━━━━━━━━━━\u001b[0m \u001b[32m66.0/66.0 MB\u001b[0m \u001b[31m8.5 MB/s\u001b[0m eta \u001b[36m0:00:00\u001b[0m\n",
            "\u001b[2K     \u001b[90m━━━━━━━━━━━━━━━━━━━━━━━━━━━━━━━━━━━━━━━━\u001b[0m \u001b[32m64.9/64.9 kB\u001b[0m \u001b[31m7.1 MB/s\u001b[0m eta \u001b[36m0:00:00\u001b[0m\n",
            "\u001b[2K     \u001b[90m━━━━━━━━━━━━━━━━━━━━━━━━━━━━━━━━━━━━━━━━\u001b[0m \u001b[32m249.9/249.9 kB\u001b[0m \u001b[31m20.2 MB/s\u001b[0m eta \u001b[36m0:00:00\u001b[0m\n",
            "\u001b[2K     \u001b[90m━━━━━━━━━━━━━━━━━━━━━━━━━━━━━━━━━━━━━━━━\u001b[0m \u001b[32m59.9/59.9 kB\u001b[0m \u001b[31m6.1 MB/s\u001b[0m eta \u001b[36m0:00:00\u001b[0m\n",
            "\u001b[2K     \u001b[90m━━━━━━━━━━━━━━━━━━━━━━━━━━━━━━━━━━━━━━━━\u001b[0m \u001b[32m107.0/107.0 kB\u001b[0m \u001b[31m11.4 MB/s\u001b[0m eta \u001b[36m0:00:00\u001b[0m\n",
            "\u001b[2K     \u001b[90m━━━━━━━━━━━━━━━━━━━━━━━━━━━━━━━━━━━━━━━━\u001b[0m \u001b[32m139.4/139.4 kB\u001b[0m \u001b[31m14.7 MB/s\u001b[0m eta \u001b[36m0:00:00\u001b[0m\n",
            "\u001b[2K     \u001b[90m━━━━━━━━━━━━━━━━━━━━━━━━━━━━━━━━━━━━━━━━\u001b[0m \u001b[32m817.3/817.3 kB\u001b[0m \u001b[31m47.5 MB/s\u001b[0m eta \u001b[36m0:00:00\u001b[0m\n",
            "\u001b[2K     \u001b[90m━━━━━━━━━━━━━━━━━━━━━━━━━━━━━━━━━━━━━━━━\u001b[0m \u001b[32m1.6/1.6 MB\u001b[0m \u001b[31m62.3 MB/s\u001b[0m eta \u001b[36m0:00:00\u001b[0m\n",
            "\u001b[2K     \u001b[90m━━━━━━━━━━━━━━━━━━━━━━━━━━━━━━━━━━━━━━━━\u001b[0m \u001b[32m85.4/85.4 kB\u001b[0m \u001b[31m10.6 MB/s\u001b[0m eta \u001b[36m0:00:00\u001b[0m\n",
            "\u001b[2K     \u001b[90m━━━━━━━━━━━━━━━━━━━━━━━━━━━━━━━━━━━━━━━━\u001b[0m \u001b[32m2.3/2.3 MB\u001b[0m \u001b[31m75.0 MB/s\u001b[0m eta \u001b[36m0:00:00\u001b[0m\n",
            "\u001b[2K     \u001b[90m━━━━━━━━━━━━━━━━━━━━━━━━━━━━━━━━━━━━━━━━\u001b[0m \u001b[32m52.5/52.5 kB\u001b[0m \u001b[31m5.9 MB/s\u001b[0m eta \u001b[36m0:00:00\u001b[0m\n",
            "\u001b[2K     \u001b[90m━━━━━━━━━━━━━━━━━━━━━━━━━━━━━━━━━━━━━━━━\u001b[0m \u001b[32m130.5/130.5 kB\u001b[0m \u001b[31m14.7 MB/s\u001b[0m eta \u001b[36m0:00:00\u001b[0m\n",
            "\u001b[2K     \u001b[90m━━━━━━━━━━━━━━━━━━━━━━━━━━━━━━━━━━━━━━━━\u001b[0m \u001b[32m130.2/130.2 kB\u001b[0m \u001b[31m14.6 MB/s\u001b[0m eta \u001b[36m0:00:00\u001b[0m\n",
            "\u001b[2K     \u001b[90m━━━━━━━━━━━━━━━━━━━━━━━━━━━━━━━━━━━━━━━━\u001b[0m \u001b[32m201.4/201.4 kB\u001b[0m \u001b[31m20.7 MB/s\u001b[0m eta \u001b[36m0:00:00\u001b[0m\n",
            "\u001b[2K     \u001b[90m━━━━━━━━━━━━━━━━━━━━━━━━━━━━━━━━━━━━━━━━\u001b[0m \u001b[32m3.0/3.0 MB\u001b[0m \u001b[31m80.9 MB/s\u001b[0m eta \u001b[36m0:00:00\u001b[0m\n",
            "\u001b[2K     \u001b[90m━━━━━━━━━━━━━━━━━━━━━━━━━━━━━━━━━━━━━━━━\u001b[0m \u001b[32m128.2/128.2 kB\u001b[0m \u001b[31m12.8 MB/s\u001b[0m eta \u001b[36m0:00:00\u001b[0m\n",
            "\u001b[2K     \u001b[90m━━━━━━━━━━━━━━━━━━━━━━━━━━━━━━━━━━━━━━━━\u001b[0m \u001b[32m5.7/5.7 MB\u001b[0m \u001b[31m88.1 MB/s\u001b[0m eta \u001b[36m0:00:00\u001b[0m\n",
            "\u001b[2K     \u001b[90m━━━━━━━━━━━━━━━━━━━━━━━━━━━━━━━━━━━━━━━━\u001b[0m \u001b[32m6.3/6.3 MB\u001b[0m \u001b[31m81.8 MB/s\u001b[0m eta \u001b[36m0:00:00\u001b[0m\n",
            "\u001b[2K     \u001b[90m━━━━━━━━━━━━━━━━━━━━━━━━━━━━━━━━━━━━━━━━\u001b[0m \u001b[32m76.9/76.9 kB\u001b[0m \u001b[31m9.0 MB/s\u001b[0m eta \u001b[36m0:00:00\u001b[0m\n",
            "\u001b[2K     \u001b[90m━━━━━━━━━━━━━━━━━━━━━━━━━━━━━━━━━━━━━━━━\u001b[0m \u001b[32m176.9/176.9 kB\u001b[0m \u001b[31m19.7 MB/s\u001b[0m eta \u001b[36m0:00:00\u001b[0m\n",
            "\u001b[2K     \u001b[90m━━━━━━━━━━━━━━━━━━━━━━━━━━━━━━━━━━━━━━━━\u001b[0m \u001b[32m12.3/12.3 MB\u001b[0m \u001b[31m80.0 MB/s\u001b[0m eta \u001b[36m0:00:00\u001b[0m\n",
            "\u001b[2K     \u001b[90m━━━━━━━━━━━━━━━━━━━━━━━━━━━━━━━━━━━━━━━━\u001b[0m \u001b[32m468.9/468.9 kB\u001b[0m \u001b[31m31.1 MB/s\u001b[0m eta \u001b[36m0:00:00\u001b[0m\n",
            "\u001b[2K     \u001b[90m━━━━━━━━━━━━━━━━━━━━━━━━━━━━━━━━━━━━━━━━\u001b[0m \u001b[32m562.2/562.2 kB\u001b[0m \u001b[31m43.1 MB/s\u001b[0m eta \u001b[36m0:00:00\u001b[0m\n",
            "\u001b[2K     \u001b[90m━━━━━━━━━━━━━━━━━━━━━━━━━━━━━━━━━━━━━━━━\u001b[0m \u001b[32m63.9/63.9 kB\u001b[0m \u001b[31m7.6 MB/s\u001b[0m eta \u001b[36m0:00:00\u001b[0m\n",
            "\u001b[?25h\u001b[31mERROR: pip's dependency resolver does not currently take into account all the packages that are installed. This behaviour is the source of the following dependency conflicts.\n",
            "torch 2.3.0+cu121 requires nvidia-cublas-cu12==12.1.3.1; platform_system == \"Linux\" and platform_machine == \"x86_64\", which is not installed.\n",
            "torch 2.3.0+cu121 requires nvidia-cuda-cupti-cu12==12.1.105; platform_system == \"Linux\" and platform_machine == \"x86_64\", which is not installed.\n",
            "torch 2.3.0+cu121 requires nvidia-cuda-nvrtc-cu12==12.1.105; platform_system == \"Linux\" and platform_machine == \"x86_64\", which is not installed.\n",
            "torch 2.3.0+cu121 requires nvidia-cuda-runtime-cu12==12.1.105; platform_system == \"Linux\" and platform_machine == \"x86_64\", which is not installed.\n",
            "torch 2.3.0+cu121 requires nvidia-cudnn-cu12==8.9.2.26; platform_system == \"Linux\" and platform_machine == \"x86_64\", which is not installed.\n",
            "torch 2.3.0+cu121 requires nvidia-cufft-cu12==11.0.2.54; platform_system == \"Linux\" and platform_machine == \"x86_64\", which is not installed.\n",
            "torch 2.3.0+cu121 requires nvidia-curand-cu12==10.3.2.106; platform_system == \"Linux\" and platform_machine == \"x86_64\", which is not installed.\n",
            "torch 2.3.0+cu121 requires nvidia-cusolver-cu12==11.4.5.107; platform_system == \"Linux\" and platform_machine == \"x86_64\", which is not installed.\n",
            "torch 2.3.0+cu121 requires nvidia-cusparse-cu12==12.1.0.106; platform_system == \"Linux\" and platform_machine == \"x86_64\", which is not installed.\n",
            "torch 2.3.0+cu121 requires nvidia-nccl-cu12==2.20.5; platform_system == \"Linux\" and platform_machine == \"x86_64\", which is not installed.\n",
            "torch 2.3.0+cu121 requires nvidia-nvtx-cu12==12.1.105; platform_system == \"Linux\" and platform_machine == \"x86_64\", which is not installed.\n",
            "gcsfs 2023.6.0 requires fsspec==2023.6.0, but you have fsspec 2024.6.0 which is incompatible.\n",
            "google-colab 1.0.0 requires ipython==7.34.0, but you have ipython 8.25.0 which is incompatible.\n",
            "google-colab 1.0.0 requires requests==2.31.0, but you have requests 2.32.2 which is incompatible.\u001b[0m\u001b[31m\n",
            "\u001b[2K     \u001b[90m━━━━━━━━━━━━━━━━━━━━━━━━━━━━━━━━━━━━━━━━\u001b[0m \u001b[32m524.0/524.0 kB\u001b[0m \u001b[31m9.5 MB/s\u001b[0m eta \u001b[36m0:00:00\u001b[0m\n",
            "\u001b[2K     \u001b[90m━━━━━━━━━━━━━━━━━━━━━━━━━━━━━━━━━━━━━━━━\u001b[0m \u001b[32m144.5/144.5 kB\u001b[0m \u001b[31m17.0 MB/s\u001b[0m eta \u001b[36m0:00:00\u001b[0m\n",
            "\u001b[?25h"
          ]
        }
      ],
      "source": [
        "### Install Qiskit, if needed\n",
        "%pip install -q qiskit[visualization]==1.0.2\n",
        "%pip install -q qiskit-aer\n",
        "%pip install -q qiskit-ibm-runtime\n",
        "%pip install -q graphviz\n",
        "%pip install -q qiskit-serverless -U\n",
        "%pip install -q qiskit-transpiler-service -U\n"
      ]
    },
    {
      "cell_type": "code",
      "source": [
        "# imports\n",
        "import random\n",
        "import numpy as np\n",
        "from typing import List, Callable\n",
        "from scipy.optimize import minimize\n",
        "from scipy.optimize._optimize import OptimizeResult\n",
        "import matplotlib.pyplot as plt\n",
        "from qiskit import QuantumCircuit\n",
        "from qiskit.quantum_info import Statevector, Operator, SparsePauliOp\n",
        "from qiskit.primitives import StatevectorSampler, PrimitiveJob\n",
        "from qiskit.circuit.library import TwoLocal, MCXGate, MCMT, ZGate\n",
        "from qiskit.transpiler.preset_passmanagers import generate_preset_pass_manager\n",
        "from qiskit.visualization import plot_histogram\n",
        "from qiskit_ibm_runtime.fake_provider import FakeSherbrooke\n",
        "from qiskit_ibm_runtime import Session, EstimatorV2 as Estimator\n",
        "from qiskit_aer import AerSimulator\n",
        "import random\n",
        "from qiskit import QuantumCircuit, transpile\n",
        "from qiskit_aer import AerSimulator\n",
        "from qiskit.visualization import plot_histogram"
      ],
      "metadata": {
        "id": "j_jgR06f0qVy"
      },
      "execution_count": 2,
      "outputs": []
    },
    {
      "cell_type": "code",
      "source": [
        "def set_io_qubits(qubit_count):\n",
        "  \"\"\"Add the specified number of input and output qubits.\"\"\"\n",
        "  return QuantumCircuit(qubit_count + 1, qubit_count)\n",
        "\n",
        "def make_oracle(circuit, qubit_count, x_bits):\n",
        "  \"\"\"Implement function {f(x) = 1 if x==x', f(x) = 0 if x!= x'}.\"\"\"\n",
        "  # Apply X gates to match x_bits\n",
        "  for i in range(qubit_count):\n",
        "    if x_bits[i] == 0:\n",
        "      circuit.x(i)\n",
        "\n",
        "  circuit.compose(MCMT(ZGate(), qubit_count - 1, 1), inplace=True)\n",
        "\n",
        "  # Apply X gates to reset the original state\n",
        "  for i in range(qubit_count):\n",
        "    if x_bits[i] == 0:\n",
        "      circuit.x(i)\n",
        "\n",
        "def make_grover_circuit(qubit_count, x_bits):\n",
        "  \"\"\"Find the value recognized by the oracle in sqrt(N) attempts.\"\"\"\n",
        "  # Initialize circuit\n",
        "  circuit = set_io_qubits(qubit_count)\n",
        "\n",
        "  # Initialize qubits\n",
        "  circuit.h(range(qubit_count))\n",
        "  circuit.x(qubit_count)\n",
        "\n",
        "  # Add oracle\n",
        "  make_oracle(circuit, qubit_count, x_bits)\n",
        "\n",
        "  # Grover operator (Diffusion operator)\n",
        "  circuit.h(range(qubit_count))\n",
        "  circuit.x(range(qubit_count))\n",
        "  circuit.compose(MCMT(ZGate(), qubit_count - 1, 1), inplace=True)\n",
        "  circuit.x(range(qubit_count))\n",
        "  circuit.h(range(qubit_count))\n",
        "\n",
        "  # Measure\n",
        "  circuit.measure(range(qubit_count), range(qubit_count))\n",
        "  return circuit"
      ],
      "metadata": {
        "id": "_sWQ53g-00wB"
      },
      "execution_count": 3,
      "outputs": []
    },
    {
      "cell_type": "code",
      "source": [
        "def main(results, output=False):\n",
        "  qubit_count = 3\n",
        "  circuit_sample_count = 512\n",
        "\n",
        "  # Choose the x' and make an oracle which can recognize it.\n",
        "  x_bits = [random.randint(0, 1) for _ in range(qubit_count)]\n",
        "  rev_x_bits = x_bits[::-1]\n",
        "\n",
        "  # Make Grover's circuit\n",
        "  circuit = make_grover_circuit(qubit_count, rev_x_bits)\n",
        "\n",
        "  # Simulate the circuit\n",
        "  simulator = FakeSherbrooke()\n",
        "  compiled_circuit = transpile(circuit, simulator, optimization_level=3)\n",
        "  result = simulator.run(compiled_circuit, shots=circuit_sample_count).result()\n",
        "  counts = result.get_counts()\n",
        "\n",
        "  # Check if we actually found the secret value\n",
        "  most_common_bitstring = max(counts, key=counts.get)\n",
        "\n",
        "  # prints Z\n",
        "  if (output == True):\n",
        "    print('Secret bit sequence: {}'.format(x_bits))\n",
        "    print('Circuit:')\n",
        "    print(circuit)\n",
        "    print('Sampled results:\\n{}'.format(counts))\n",
        "    print('Most common bitstring: {}'.format(most_common_bitstring))\n",
        "    print('Found a match: {}'.format(\n",
        "    most_common_bitstring == ''.join(map(str, x_bits))))\n",
        "  else:\n",
        "    results.append(most_common_bitstring == ''.join(map(str, x_bits)))\n"
      ],
      "metadata": {
        "id": "pqsaGyvk1hBp"
      },
      "execution_count": 13,
      "outputs": []
    },
    {
      "cell_type": "code",
      "source": [
        "qubit_count = 3\n",
        "qc = QuantumCircuit(qubit_count + 1)\n",
        "\n",
        "### Initialized state example\n",
        "\n",
        "qc.h(range(qubit_count))\n",
        "qc.x(qubit_count)\n",
        "\n",
        "qc.draw(output='mpl')"
      ],
      "metadata": {
        "colab": {
          "base_uri": "https://localhost:8080/",
          "height": 320
        },
        "id": "HeZ4SvQ5C-g0",
        "outputId": "3235c520-80dc-4079-cfe0-71f3560d1a67"
      },
      "execution_count": 6,
      "outputs": [
        {
          "output_type": "execute_result",
          "data": {
            "text/plain": [
              "<Figure size 203.885x367.889 with 1 Axes>"
            ],
            "image/png": "[encoded data removed]"
          },
          "metadata": {},
          "execution_count": 6
        }
      ]
    },
    {
      "cell_type": "code",
      "source": [
        "def check_accuracy(num_trials=10):\n",
        "  results = []\n",
        "  for _ in range(num_trials):\n",
        "    main(results)\n",
        "\n",
        "  count = 0\n",
        "  for res in results:\n",
        "    if res:\n",
        "      count += 1\n",
        "\n",
        "  print('Accuracy: {}'.format(count / len(results)))"
      ],
      "metadata": {
        "id": "4b782fwe1p0o"
      },
      "execution_count": 7,
      "outputs": []
    },
    {
      "cell_type": "code",
      "source": [
        "if __name__ == '__main__':\n",
        "  for i in range(5):\n",
        "    results = []\n",
        "    main(results, output=True)\n",
        "    print('\\n')"
      ],
      "metadata": {
        "colab": {
          "base_uri": "https://localhost:8080/"
        },
        "id": "G_oEXl4412dc",
        "outputId": "7b6d4f53-0809-4408-b646-be69b9cf3091"
      },
      "execution_count": 16,
      "outputs": [
        {
          "output_type": "stream",
          "name": "stdout",
          "text": [
            "Secret bit sequence: [0, 1, 1]\n",
            "Circuit:\n",
            "     ┌───┐        ┌───┐┌───┐        ┌───┐┌───┐┌─┐      \n",
            "q_0: ┤ H ├──────■─┤ H ├┤ X ├──────■─┤ X ├┤ H ├┤M├──────\n",
            "     ├───┤      │ ├───┤├───┤      │ ├───┤├───┤└╥┘┌─┐   \n",
            "q_1: ┤ H ├──────■─┤ H ├┤ X ├──────■─┤ X ├┤ H ├─╫─┤M├───\n",
            "     ├───┤┌───┐ │ ├───┤├───┤┌───┐ │ ├───┤├───┤ ║ └╥┘┌─┐\n",
            "q_2: ┤ H ├┤ X ├─■─┤ X ├┤ H ├┤ X ├─■─┤ X ├┤ H ├─╫──╫─┤M├\n",
            "     ├───┤└───┘   └───┘└───┘└───┘   └───┘└───┘ ║  ║ └╥┘\n",
            "q_3: ┤ X ├─────────────────────────────────────╫──╫──╫─\n",
            "     └───┘                                     ║  ║  ║ \n",
            "c: 3/══════════════════════════════════════════╩══╩══╩═\n",
            "                                               0  1  2 \n",
            "Sampled results:\n",
            "{'000': 20, '010': 17, '100': 20, '001': 32, '101': 27, '111': 28, '011': 344, '110': 24}\n",
            "Most common bitstring: 011\n",
            "Found a match: True\n",
            "\n",
            "\n",
            "Secret bit sequence: [0, 1, 1]\n",
            "Circuit:\n",
            "     ┌───┐        ┌───┐┌───┐        ┌───┐┌───┐┌─┐      \n",
            "q_0: ┤ H ├──────■─┤ H ├┤ X ├──────■─┤ X ├┤ H ├┤M├──────\n",
            "     ├───┤      │ ├───┤├───┤      │ ├───┤├───┤└╥┘┌─┐   \n",
            "q_1: ┤ H ├──────■─┤ H ├┤ X ├──────■─┤ X ├┤ H ├─╫─┤M├───\n",
            "     ├───┤┌───┐ │ ├───┤├───┤┌───┐ │ ├───┤├───┤ ║ └╥┘┌─┐\n",
            "q_2: ┤ H ├┤ X ├─■─┤ X ├┤ H ├┤ X ├─■─┤ X ├┤ H ├─╫──╫─┤M├\n",
            "     ├───┤└───┘   └───┘└───┘└───┘   └───┘└───┘ ║  ║ └╥┘\n",
            "q_3: ┤ X ├─────────────────────────────────────╫──╫──╫─\n",
            "     └───┘                                     ║  ║  ║ \n",
            "c: 3/══════════════════════════════════════════╩══╩══╩═\n",
            "                                               0  1  2 \n",
            "Sampled results:\n",
            "{'001': 18, '110': 25, '100': 18, '010': 19, '000': 23, '101': 23, '111': 27, '011': 359}\n",
            "Most common bitstring: 011\n",
            "Found a match: True\n",
            "\n",
            "\n",
            "Secret bit sequence: [0, 0, 0]\n",
            "Circuit:\n",
            "     ┌───┐┌───┐   ┌───┐┌───┐┌───┐   ┌───┐┌───┐┌─┐      \n",
            "q_0: ┤ H ├┤ X ├─■─┤ X ├┤ H ├┤ X ├─■─┤ X ├┤ H ├┤M├──────\n",
            "     ├───┤├───┤ │ ├───┤├───┤├───┤ │ ├───┤├───┤└╥┘┌─┐   \n",
            "q_1: ┤ H ├┤ X ├─■─┤ X ├┤ H ├┤ X ├─■─┤ X ├┤ H ├─╫─┤M├───\n",
            "     ├───┤├───┤ │ ├───┤├───┤├───┤ │ ├───┤├───┤ ║ └╥┘┌─┐\n",
            "q_2: ┤ H ├┤ X ├─■─┤ X ├┤ H ├┤ X ├─■─┤ X ├┤ H ├─╫──╫─┤M├\n",
            "     ├───┤└───┘   └───┘└───┘└───┘   └───┘└───┘ ║  ║ └╥┘\n",
            "q_3: ┤ X ├─────────────────────────────────────╫──╫──╫─\n",
            "     └───┘                                     ║  ║  ║ \n",
            "c: 3/══════════════════════════════════════════╩══╩══╩═\n",
            "                                               0  1  2 \n",
            "Sampled results:\n",
            "{'100': 23, '011': 13, '111': 22, '110': 23, '101': 25, '010': 30, '000': 342, '001': 34}\n",
            "Most common bitstring: 000\n",
            "Found a match: True\n",
            "\n",
            "\n",
            "Secret bit sequence: [0, 0, 0]\n",
            "Circuit:\n",
            "     ┌───┐┌───┐   ┌───┐┌───┐┌───┐   ┌───┐┌───┐┌─┐      \n",
            "q_0: ┤ H ├┤ X ├─■─┤ X ├┤ H ├┤ X ├─■─┤ X ├┤ H ├┤M├──────\n",
            "     ├───┤├───┤ │ ├───┤├───┤├───┤ │ ├───┤├───┤└╥┘┌─┐   \n",
            "q_1: ┤ H ├┤ X ├─■─┤ X ├┤ H ├┤ X ├─■─┤ X ├┤ H ├─╫─┤M├───\n",
            "     ├───┤├───┤ │ ├───┤├───┤├───┤ │ ├───┤├───┤ ║ └╥┘┌─┐\n",
            "q_2: ┤ H ├┤ X ├─■─┤ X ├┤ H ├┤ X ├─■─┤ X ├┤ H ├─╫──╫─┤M├\n",
            "     ├───┤└───┘   └───┘└───┘└───┘   └───┘└───┘ ║  ║ └╥┘\n",
            "q_3: ┤ X ├─────────────────────────────────────╫──╫──╫─\n",
            "     └───┘                                     ║  ║  ║ \n",
            "c: 3/══════════════════════════════════════════╩══╩══╩═\n",
            "                                               0  1  2 \n",
            "Sampled results:\n",
            "{'110': 12, '101': 18, '001': 22, '011': 15, '111': 27, '100': 22, '010': 35, '000': 361}\n",
            "Most common bitstring: 000\n",
            "Found a match: True\n",
            "\n",
            "\n",
            "Secret bit sequence: [1, 0, 0]\n",
            "Circuit:\n",
            "     ┌───┐┌───┐   ┌───┐┌───┐┌───┐   ┌───┐┌───┐┌─┐      \n",
            "q_0: ┤ H ├┤ X ├─■─┤ X ├┤ H ├┤ X ├─■─┤ X ├┤ H ├┤M├──────\n",
            "     ├───┤├───┤ │ ├───┤├───┤├───┤ │ ├───┤├───┤└╥┘┌─┐   \n",
            "q_1: ┤ H ├┤ X ├─■─┤ X ├┤ H ├┤ X ├─■─┤ X ├┤ H ├─╫─┤M├───\n",
            "     ├───┤└───┘ │ ├───┤├───┤└───┘ │ ├───┤├───┤ ║ └╥┘┌─┐\n",
            "q_2: ┤ H ├──────■─┤ H ├┤ X ├──────■─┤ X ├┤ H ├─╫──╫─┤M├\n",
            "     ├───┤        └───┘└───┘        └───┘└───┘ ║  ║ └╥┘\n",
            "q_3: ┤ X ├─────────────────────────────────────╫──╫──╫─\n",
            "     └───┘                                     ║  ║  ║ \n",
            "c: 3/══════════════════════════════════════════╩══╩══╩═\n",
            "                                               0  1  2 \n",
            "Sampled results:\n",
            "{'110': 25, '011': 11, '111': 17, '101': 21, '001': 21, '010': 27, '000': 29, '100': 361}\n",
            "Most common bitstring: 100\n",
            "Found a match: True\n",
            "\n",
            "\n"
          ]
        }
      ]
    },
    {
      "cell_type": "code",
      "source": [
        "# Runs a random circuit 10 times, this can be adjusted\n",
        "# check_accuracy(100)\n"
      ],
      "metadata": {
        "id": "Prtcnfn814R8"
      },
      "execution_count": 19,
      "outputs": []
    }
  ]
}
